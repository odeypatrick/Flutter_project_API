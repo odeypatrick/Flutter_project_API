{
  "cells": [
    {
      "cell_type": "markdown",
      "metadata": {
        "id": "view-in-github",
        "colab_type": "text"
      },
      "source": [
        "<a href=\"https://colab.research.google.com/github/odeypatrick/Flutter_project_API/blob/main/genome_classification_using_neural_networks2.ipynb\" target=\"_parent\"><img src=\"https://colab.research.google.com/assets/colab-badge.svg\" alt=\"Open In Colab\"/></a>"
      ]
    },
    {
      "cell_type": "markdown",
      "metadata": {
        "papermill": {
          "duration": 0.043772,
          "end_time": "2022-06-23T07:33:37.024950",
          "exception": false,
          "start_time": "2022-06-23T07:33:36.981178",
          "status": "completed"
        },
        "tags": [],
        "id": "iRRJJevhoYan"
      },
      "source": [
        "# Importing the Modules"
      ]
    },
    {
      "cell_type": "markdown",
      "metadata": {
        "papermill": {
          "duration": 0.044812,
          "end_time": "2022-06-23T07:33:37.112736",
          "exception": false,
          "start_time": "2022-06-23T07:33:37.067924",
          "status": "completed"
        },
        "tags": [],
        "id": "G1b2uDZhoYbB"
      },
      "source": [
        "The first 4 lines will make your code reproducible."
      ]
    },
    {
      "cell_type": "code",
      "execution_count": 1,
      "metadata": {
        "_cell_guid": "b1076dfc-b9ad-4769-8c92-a6c4dae69d19",
        "_uuid": "8f2839f25d086af736a60e9eeb907d3b93b6e0e5",
        "execution": {
          "iopub.execute_input": "2022-06-23T07:33:37.204172Z",
          "iopub.status.busy": "2022-06-23T07:33:37.203324Z",
          "iopub.status.idle": "2022-06-23T07:33:45.615994Z",
          "shell.execute_reply": "2022-06-23T07:33:45.615243Z",
          "shell.execute_reply.started": "2022-06-23T06:58:59.098826Z"
        },
        "papermill": {
          "duration": 8.457691,
          "end_time": "2022-06-23T07:33:45.616134",
          "exception": false,
          "start_time": "2022-06-23T07:33:37.158443",
          "status": "completed"
        },
        "tags": [],
        "colab": {
          "base_uri": "https://localhost:8080/"
        },
        "id": "ywhwRvMGoYbF",
        "outputId": "ff6cb1db-f55d-4cc5-d161-e98065347118"
      },
      "outputs": [
        {
          "output_type": "stream",
          "name": "stdout",
          "text": [
            "NetworkX version: 2.6.3\n"
          ]
        }
      ],
      "source": [
        "#To make the code reproducible\n",
        "import numpy as np\n",
        "np.random.seed(0)\n",
        "from tensorflow.random import set_seed\n",
        "set_seed(0)\n",
        "\n",
        "#Libraries to be used \n",
        "import pandas as pd\n",
        "from tensorflow import keras\n",
        "from sklearn.preprocessing import StandardScaler\n",
        "from sklearn.decomposition import PCA\n",
        "from tensorflow.keras import layers\n",
        "from sklearn.metrics import accuracy_score, confusion_matrix\n",
        "import matplotlib.pyplot as plt\n",
        "import seaborn as sns\n",
        "import networkx as nx\n",
        "%matplotlib inline\n",
        "print('NetworkX version: {}'.format(nx.__version__))\n"
      ]
    },
    {
      "cell_type": "markdown",
      "metadata": {
        "papermill": {
          "duration": 0.042755,
          "end_time": "2022-06-23T07:33:45.702930",
          "exception": false,
          "start_time": "2022-06-23T07:33:45.660175",
          "status": "completed"
        },
        "tags": [],
        "id": "9M3cq6UyoYbh"
      },
      "source": [
        "# Loading Data"
      ]
    },
    {
      "cell_type": "markdown",
      "metadata": {
        "papermill": {
          "duration": 0.041999,
          "end_time": "2022-06-23T07:33:45.788489",
          "exception": false,
          "start_time": "2022-06-23T07:33:45.746490",
          "status": "completed"
        },
        "tags": [],
        "id": "ROUtTx6OoYbm"
      },
      "source": [
        "Reading the dataset "
      ]
    },
    {
      "cell_type": "code",
      "execution_count": 5,
      "metadata": {
        "execution": {
          "iopub.execute_input": "2022-06-23T07:33:45.885091Z",
          "iopub.status.busy": "2022-06-23T07:33:45.884280Z",
          "iopub.status.idle": "2022-06-23T07:33:46.220588Z",
          "shell.execute_reply": "2022-06-23T07:33:46.219597Z",
          "shell.execute_reply.started": "2022-06-23T06:58:59.622286Z"
        },
        "papermill": {
          "duration": 0.389732,
          "end_time": "2022-06-23T07:33:46.220730",
          "exception": false,
          "start_time": "2022-06-23T07:33:45.830998",
          "status": "completed"
        },
        "tags": [],
        "colab": {
          "base_uri": "https://localhost:8080/",
          "height": 594
        },
        "id": "q7hfygXfoYbp",
        "outputId": "c1bf37cd-c36e-44c0-a1b2-4d3fcfd0384a"
      },
      "outputs": [
        {
          "output_type": "execute_result",
          "data": {
            "text/plain": [
              "                      Gene Description Gene Accession Number    1 call    2  \\\n",
              "0  AFFX-BioB-5_at (endogenous control)        AFFX-BioB-5_at -214    A -139   \n",
              "1  AFFX-BioB-M_at (endogenous control)        AFFX-BioB-M_at -153    A  -73   \n",
              "2  AFFX-BioB-3_at (endogenous control)        AFFX-BioB-3_at  -58    A   -1   \n",
              "3  AFFX-BioC-5_at (endogenous control)        AFFX-BioC-5_at   88    A  283   \n",
              "4  AFFX-BioC-3_at (endogenous control)        AFFX-BioC-3_at -295    A -264   \n",
              "\n",
              "  call.1    3 call.2    4 call.3  ...   29 call.33   30 call.34   31 call.35  \\\n",
              "0      A  -76      A -135      A  ...   15       A -318       A  -32       A   \n",
              "1      A  -49      A -114      A  ... -114       A -192       A  -49       A   \n",
              "2      A -307      A  265      A  ...    2       A  -95       A   49       A   \n",
              "3      A  309      A   12      A  ...  193       A  312       A  230       P   \n",
              "4      A -376      A -419      A  ...  -51       A -139       A -367       A   \n",
              "\n",
              "    32 call.36   33 call.37  \n",
              "0 -124       A -135       A  \n",
              "1  -79       A -186       A  \n",
              "2  -37       A  -70       A  \n",
              "3  330       A  337       A  \n",
              "4 -188       A -407       A  \n",
              "\n",
              "[5 rows x 78 columns]"
            ],
            "text/html": [
              "\n",
              "  <div id=\"df-9caf4423-5481-4ae1-8899-c9953b549770\">\n",
              "    <div class=\"colab-df-container\">\n",
              "      <div>\n",
              "<style scoped>\n",
              "    .dataframe tbody tr th:only-of-type {\n",
              "        vertical-align: middle;\n",
              "    }\n",
              "\n",
              "    .dataframe tbody tr th {\n",
              "        vertical-align: top;\n",
              "    }\n",
              "\n",
              "    .dataframe thead th {\n",
              "        text-align: right;\n",
              "    }\n",
              "</style>\n",
              "<table border=\"1\" class=\"dataframe\">\n",
              "  <thead>\n",
              "    <tr style=\"text-align: right;\">\n",
              "      <th></th>\n",
              "      <th>Gene Description</th>\n",
              "      <th>Gene Accession Number</th>\n",
              "      <th>1</th>\n",
              "      <th>call</th>\n",
              "      <th>2</th>\n",
              "      <th>call.1</th>\n",
              "      <th>3</th>\n",
              "      <th>call.2</th>\n",
              "      <th>4</th>\n",
              "      <th>call.3</th>\n",
              "      <th>...</th>\n",
              "      <th>29</th>\n",
              "      <th>call.33</th>\n",
              "      <th>30</th>\n",
              "      <th>call.34</th>\n",
              "      <th>31</th>\n",
              "      <th>call.35</th>\n",
              "      <th>32</th>\n",
              "      <th>call.36</th>\n",
              "      <th>33</th>\n",
              "      <th>call.37</th>\n",
              "    </tr>\n",
              "  </thead>\n",
              "  <tbody>\n",
              "    <tr>\n",
              "      <th>0</th>\n",
              "      <td>AFFX-BioB-5_at (endogenous control)</td>\n",
              "      <td>AFFX-BioB-5_at</td>\n",
              "      <td>-214</td>\n",
              "      <td>A</td>\n",
              "      <td>-139</td>\n",
              "      <td>A</td>\n",
              "      <td>-76</td>\n",
              "      <td>A</td>\n",
              "      <td>-135</td>\n",
              "      <td>A</td>\n",
              "      <td>...</td>\n",
              "      <td>15</td>\n",
              "      <td>A</td>\n",
              "      <td>-318</td>\n",
              "      <td>A</td>\n",
              "      <td>-32</td>\n",
              "      <td>A</td>\n",
              "      <td>-124</td>\n",
              "      <td>A</td>\n",
              "      <td>-135</td>\n",
              "      <td>A</td>\n",
              "    </tr>\n",
              "    <tr>\n",
              "      <th>1</th>\n",
              "      <td>AFFX-BioB-M_at (endogenous control)</td>\n",
              "      <td>AFFX-BioB-M_at</td>\n",
              "      <td>-153</td>\n",
              "      <td>A</td>\n",
              "      <td>-73</td>\n",
              "      <td>A</td>\n",
              "      <td>-49</td>\n",
              "      <td>A</td>\n",
              "      <td>-114</td>\n",
              "      <td>A</td>\n",
              "      <td>...</td>\n",
              "      <td>-114</td>\n",
              "      <td>A</td>\n",
              "      <td>-192</td>\n",
              "      <td>A</td>\n",
              "      <td>-49</td>\n",
              "      <td>A</td>\n",
              "      <td>-79</td>\n",
              "      <td>A</td>\n",
              "      <td>-186</td>\n",
              "      <td>A</td>\n",
              "    </tr>\n",
              "    <tr>\n",
              "      <th>2</th>\n",
              "      <td>AFFX-BioB-3_at (endogenous control)</td>\n",
              "      <td>AFFX-BioB-3_at</td>\n",
              "      <td>-58</td>\n",
              "      <td>A</td>\n",
              "      <td>-1</td>\n",
              "      <td>A</td>\n",
              "      <td>-307</td>\n",
              "      <td>A</td>\n",
              "      <td>265</td>\n",
              "      <td>A</td>\n",
              "      <td>...</td>\n",
              "      <td>2</td>\n",
              "      <td>A</td>\n",
              "      <td>-95</td>\n",
              "      <td>A</td>\n",
              "      <td>49</td>\n",
              "      <td>A</td>\n",
              "      <td>-37</td>\n",
              "      <td>A</td>\n",
              "      <td>-70</td>\n",
              "      <td>A</td>\n",
              "    </tr>\n",
              "    <tr>\n",
              "      <th>3</th>\n",
              "      <td>AFFX-BioC-5_at (endogenous control)</td>\n",
              "      <td>AFFX-BioC-5_at</td>\n",
              "      <td>88</td>\n",
              "      <td>A</td>\n",
              "      <td>283</td>\n",
              "      <td>A</td>\n",
              "      <td>309</td>\n",
              "      <td>A</td>\n",
              "      <td>12</td>\n",
              "      <td>A</td>\n",
              "      <td>...</td>\n",
              "      <td>193</td>\n",
              "      <td>A</td>\n",
              "      <td>312</td>\n",
              "      <td>A</td>\n",
              "      <td>230</td>\n",
              "      <td>P</td>\n",
              "      <td>330</td>\n",
              "      <td>A</td>\n",
              "      <td>337</td>\n",
              "      <td>A</td>\n",
              "    </tr>\n",
              "    <tr>\n",
              "      <th>4</th>\n",
              "      <td>AFFX-BioC-3_at (endogenous control)</td>\n",
              "      <td>AFFX-BioC-3_at</td>\n",
              "      <td>-295</td>\n",
              "      <td>A</td>\n",
              "      <td>-264</td>\n",
              "      <td>A</td>\n",
              "      <td>-376</td>\n",
              "      <td>A</td>\n",
              "      <td>-419</td>\n",
              "      <td>A</td>\n",
              "      <td>...</td>\n",
              "      <td>-51</td>\n",
              "      <td>A</td>\n",
              "      <td>-139</td>\n",
              "      <td>A</td>\n",
              "      <td>-367</td>\n",
              "      <td>A</td>\n",
              "      <td>-188</td>\n",
              "      <td>A</td>\n",
              "      <td>-407</td>\n",
              "      <td>A</td>\n",
              "    </tr>\n",
              "  </tbody>\n",
              "</table>\n",
              "<p>5 rows × 78 columns</p>\n",
              "</div>\n",
              "      <button class=\"colab-df-convert\" onclick=\"convertToInteractive('df-9caf4423-5481-4ae1-8899-c9953b549770')\"\n",
              "              title=\"Convert this dataframe to an interactive table.\"\n",
              "              style=\"display:none;\">\n",
              "        \n",
              "  <svg xmlns=\"http://www.w3.org/2000/svg\" height=\"24px\"viewBox=\"0 0 24 24\"\n",
              "       width=\"24px\">\n",
              "    <path d=\"M0 0h24v24H0V0z\" fill=\"none\"/>\n",
              "    <path d=\"M18.56 5.44l.94 2.06.94-2.06 2.06-.94-2.06-.94-.94-2.06-.94 2.06-2.06.94zm-11 1L8.5 8.5l.94-2.06 2.06-.94-2.06-.94L8.5 2.5l-.94 2.06-2.06.94zm10 10l.94 2.06.94-2.06 2.06-.94-2.06-.94-.94-2.06-.94 2.06-2.06.94z\"/><path d=\"M17.41 7.96l-1.37-1.37c-.4-.4-.92-.59-1.43-.59-.52 0-1.04.2-1.43.59L10.3 9.45l-7.72 7.72c-.78.78-.78 2.05 0 2.83L4 21.41c.39.39.9.59 1.41.59.51 0 1.02-.2 1.41-.59l7.78-7.78 2.81-2.81c.8-.78.8-2.07 0-2.86zM5.41 20L4 18.59l7.72-7.72 1.47 1.35L5.41 20z\"/>\n",
              "  </svg>\n",
              "      </button>\n",
              "      \n",
              "  <style>\n",
              "    .colab-df-container {\n",
              "      display:flex;\n",
              "      flex-wrap:wrap;\n",
              "      gap: 12px;\n",
              "    }\n",
              "\n",
              "    .colab-df-convert {\n",
              "      background-color: #E8F0FE;\n",
              "      border: none;\n",
              "      border-radius: 50%;\n",
              "      cursor: pointer;\n",
              "      display: none;\n",
              "      fill: #1967D2;\n",
              "      height: 32px;\n",
              "      padding: 0 0 0 0;\n",
              "      width: 32px;\n",
              "    }\n",
              "\n",
              "    .colab-df-convert:hover {\n",
              "      background-color: #E2EBFA;\n",
              "      box-shadow: 0px 1px 2px rgba(60, 64, 67, 0.3), 0px 1px 3px 1px rgba(60, 64, 67, 0.15);\n",
              "      fill: #174EA6;\n",
              "    }\n",
              "\n",
              "    [theme=dark] .colab-df-convert {\n",
              "      background-color: #3B4455;\n",
              "      fill: #D2E3FC;\n",
              "    }\n",
              "\n",
              "    [theme=dark] .colab-df-convert:hover {\n",
              "      background-color: #434B5C;\n",
              "      box-shadow: 0px 1px 3px 1px rgba(0, 0, 0, 0.15);\n",
              "      filter: drop-shadow(0px 1px 2px rgba(0, 0, 0, 0.3));\n",
              "      fill: #FFFFFF;\n",
              "    }\n",
              "  </style>\n",
              "\n",
              "      <script>\n",
              "        const buttonEl =\n",
              "          document.querySelector('#df-9caf4423-5481-4ae1-8899-c9953b549770 button.colab-df-convert');\n",
              "        buttonEl.style.display =\n",
              "          google.colab.kernel.accessAllowed ? 'block' : 'none';\n",
              "\n",
              "        async function convertToInteractive(key) {\n",
              "          const element = document.querySelector('#df-9caf4423-5481-4ae1-8899-c9953b549770');\n",
              "          const dataTable =\n",
              "            await google.colab.kernel.invokeFunction('convertToInteractive',\n",
              "                                                     [key], {});\n",
              "          if (!dataTable) return;\n",
              "\n",
              "          const docLinkHtml = 'Like what you see? Visit the ' +\n",
              "            '<a target=\"_blank\" href=https://colab.research.google.com/notebooks/data_table.ipynb>data table notebook</a>'\n",
              "            + ' to learn more about interactive tables.';\n",
              "          element.innerHTML = '';\n",
              "          dataTable['output_type'] = 'display_data';\n",
              "          await google.colab.output.renderOutput(dataTable, element);\n",
              "          const docLink = document.createElement('div');\n",
              "          docLink.innerHTML = docLinkHtml;\n",
              "          element.appendChild(docLink);\n",
              "        }\n",
              "      </script>\n",
              "    </div>\n",
              "  </div>\n",
              "  "
            ]
          },
          "metadata": {},
          "execution_count": 5
        }
      ],
      "source": [
        "train_df = pd.read_csv('data_set_ALL_AML_train.csv')\n",
        "test_df = pd.read_csv('data_set_ALL_AML_independent.csv')\n",
        "train_df.head()"
      ]
    },
    {
      "cell_type": "code",
      "execution_count": 6,
      "metadata": {
        "execution": {
          "iopub.execute_input": "2022-06-23T07:33:46.320987Z",
          "iopub.status.busy": "2022-06-23T07:33:46.320286Z",
          "iopub.status.idle": "2022-06-23T07:33:46.344586Z",
          "shell.execute_reply": "2022-06-23T07:33:46.343808Z",
          "shell.execute_reply.started": "2022-06-23T06:58:59.844210Z"
        },
        "papermill": {
          "duration": 0.079663,
          "end_time": "2022-06-23T07:33:46.344728",
          "exception": false,
          "start_time": "2022-06-23T07:33:46.265065",
          "status": "completed"
        },
        "tags": [],
        "colab": {
          "base_uri": "https://localhost:8080/",
          "height": 594
        },
        "id": "NNihgN3QoYbu",
        "outputId": "f2de60b7-a844-4f5a-d73d-860d8d44ce19"
      },
      "outputs": [
        {
          "output_type": "execute_result",
          "data": {
            "text/plain": [
              "                      Gene Description Gene Accession Number   39 call   40  \\\n",
              "0  AFFX-BioB-5_at (endogenous control)        AFFX-BioB-5_at -342    A  -87   \n",
              "1  AFFX-BioB-M_at (endogenous control)        AFFX-BioB-M_at -200    A -248   \n",
              "2  AFFX-BioB-3_at (endogenous control)        AFFX-BioB-3_at   41    A  262   \n",
              "3  AFFX-BioC-5_at (endogenous control)        AFFX-BioC-5_at  328    A  295   \n",
              "4  AFFX-BioC-3_at (endogenous control)        AFFX-BioC-3_at -224    A -226   \n",
              "\n",
              "  call.1   42 call.2   47 call.3  ...   65 call.29   66 call.30   63 call.31  \\\n",
              "0      A   22      A -243      A  ...  -62       A  -58       A -161       A   \n",
              "1      A -153      A -218      A  ... -198       A -217       A -215       A   \n",
              "2      A   17      A -163      A  ...   -5       A   63       A  -46       A   \n",
              "3      A  276      A  182      A  ...  141       A   95       A  146       A   \n",
              "4      A -211      A -289      A  ... -256       A -191       A -172       A   \n",
              "\n",
              "    64 call.32   62 call.33  \n",
              "0  -48       A -176       A  \n",
              "1 -531       A -284       A  \n",
              "2 -124       A  -81       A  \n",
              "3  431       A    9       A  \n",
              "4 -496       A -294       A  \n",
              "\n",
              "[5 rows x 70 columns]"
            ],
            "text/html": [
              "\n",
              "  <div id=\"df-a43b8afe-a154-4bde-94bd-37824337ce77\">\n",
              "    <div class=\"colab-df-container\">\n",
              "      <div>\n",
              "<style scoped>\n",
              "    .dataframe tbody tr th:only-of-type {\n",
              "        vertical-align: middle;\n",
              "    }\n",
              "\n",
              "    .dataframe tbody tr th {\n",
              "        vertical-align: top;\n",
              "    }\n",
              "\n",
              "    .dataframe thead th {\n",
              "        text-align: right;\n",
              "    }\n",
              "</style>\n",
              "<table border=\"1\" class=\"dataframe\">\n",
              "  <thead>\n",
              "    <tr style=\"text-align: right;\">\n",
              "      <th></th>\n",
              "      <th>Gene Description</th>\n",
              "      <th>Gene Accession Number</th>\n",
              "      <th>39</th>\n",
              "      <th>call</th>\n",
              "      <th>40</th>\n",
              "      <th>call.1</th>\n",
              "      <th>42</th>\n",
              "      <th>call.2</th>\n",
              "      <th>47</th>\n",
              "      <th>call.3</th>\n",
              "      <th>...</th>\n",
              "      <th>65</th>\n",
              "      <th>call.29</th>\n",
              "      <th>66</th>\n",
              "      <th>call.30</th>\n",
              "      <th>63</th>\n",
              "      <th>call.31</th>\n",
              "      <th>64</th>\n",
              "      <th>call.32</th>\n",
              "      <th>62</th>\n",
              "      <th>call.33</th>\n",
              "    </tr>\n",
              "  </thead>\n",
              "  <tbody>\n",
              "    <tr>\n",
              "      <th>0</th>\n",
              "      <td>AFFX-BioB-5_at (endogenous control)</td>\n",
              "      <td>AFFX-BioB-5_at</td>\n",
              "      <td>-342</td>\n",
              "      <td>A</td>\n",
              "      <td>-87</td>\n",
              "      <td>A</td>\n",
              "      <td>22</td>\n",
              "      <td>A</td>\n",
              "      <td>-243</td>\n",
              "      <td>A</td>\n",
              "      <td>...</td>\n",
              "      <td>-62</td>\n",
              "      <td>A</td>\n",
              "      <td>-58</td>\n",
              "      <td>A</td>\n",
              "      <td>-161</td>\n",
              "      <td>A</td>\n",
              "      <td>-48</td>\n",
              "      <td>A</td>\n",
              "      <td>-176</td>\n",
              "      <td>A</td>\n",
              "    </tr>\n",
              "    <tr>\n",
              "      <th>1</th>\n",
              "      <td>AFFX-BioB-M_at (endogenous control)</td>\n",
              "      <td>AFFX-BioB-M_at</td>\n",
              "      <td>-200</td>\n",
              "      <td>A</td>\n",
              "      <td>-248</td>\n",
              "      <td>A</td>\n",
              "      <td>-153</td>\n",
              "      <td>A</td>\n",
              "      <td>-218</td>\n",
              "      <td>A</td>\n",
              "      <td>...</td>\n",
              "      <td>-198</td>\n",
              "      <td>A</td>\n",
              "      <td>-217</td>\n",
              "      <td>A</td>\n",
              "      <td>-215</td>\n",
              "      <td>A</td>\n",
              "      <td>-531</td>\n",
              "      <td>A</td>\n",
              "      <td>-284</td>\n",
              "      <td>A</td>\n",
              "    </tr>\n",
              "    <tr>\n",
              "      <th>2</th>\n",
              "      <td>AFFX-BioB-3_at (endogenous control)</td>\n",
              "      <td>AFFX-BioB-3_at</td>\n",
              "      <td>41</td>\n",
              "      <td>A</td>\n",
              "      <td>262</td>\n",
              "      <td>A</td>\n",
              "      <td>17</td>\n",
              "      <td>A</td>\n",
              "      <td>-163</td>\n",
              "      <td>A</td>\n",
              "      <td>...</td>\n",
              "      <td>-5</td>\n",
              "      <td>A</td>\n",
              "      <td>63</td>\n",
              "      <td>A</td>\n",
              "      <td>-46</td>\n",
              "      <td>A</td>\n",
              "      <td>-124</td>\n",
              "      <td>A</td>\n",
              "      <td>-81</td>\n",
              "      <td>A</td>\n",
              "    </tr>\n",
              "    <tr>\n",
              "      <th>3</th>\n",
              "      <td>AFFX-BioC-5_at (endogenous control)</td>\n",
              "      <td>AFFX-BioC-5_at</td>\n",
              "      <td>328</td>\n",
              "      <td>A</td>\n",
              "      <td>295</td>\n",
              "      <td>A</td>\n",
              "      <td>276</td>\n",
              "      <td>A</td>\n",
              "      <td>182</td>\n",
              "      <td>A</td>\n",
              "      <td>...</td>\n",
              "      <td>141</td>\n",
              "      <td>A</td>\n",
              "      <td>95</td>\n",
              "      <td>A</td>\n",
              "      <td>146</td>\n",
              "      <td>A</td>\n",
              "      <td>431</td>\n",
              "      <td>A</td>\n",
              "      <td>9</td>\n",
              "      <td>A</td>\n",
              "    </tr>\n",
              "    <tr>\n",
              "      <th>4</th>\n",
              "      <td>AFFX-BioC-3_at (endogenous control)</td>\n",
              "      <td>AFFX-BioC-3_at</td>\n",
              "      <td>-224</td>\n",
              "      <td>A</td>\n",
              "      <td>-226</td>\n",
              "      <td>A</td>\n",
              "      <td>-211</td>\n",
              "      <td>A</td>\n",
              "      <td>-289</td>\n",
              "      <td>A</td>\n",
              "      <td>...</td>\n",
              "      <td>-256</td>\n",
              "      <td>A</td>\n",
              "      <td>-191</td>\n",
              "      <td>A</td>\n",
              "      <td>-172</td>\n",
              "      <td>A</td>\n",
              "      <td>-496</td>\n",
              "      <td>A</td>\n",
              "      <td>-294</td>\n",
              "      <td>A</td>\n",
              "    </tr>\n",
              "  </tbody>\n",
              "</table>\n",
              "<p>5 rows × 70 columns</p>\n",
              "</div>\n",
              "      <button class=\"colab-df-convert\" onclick=\"convertToInteractive('df-a43b8afe-a154-4bde-94bd-37824337ce77')\"\n",
              "              title=\"Convert this dataframe to an interactive table.\"\n",
              "              style=\"display:none;\">\n",
              "        \n",
              "  <svg xmlns=\"http://www.w3.org/2000/svg\" height=\"24px\"viewBox=\"0 0 24 24\"\n",
              "       width=\"24px\">\n",
              "    <path d=\"M0 0h24v24H0V0z\" fill=\"none\"/>\n",
              "    <path d=\"M18.56 5.44l.94 2.06.94-2.06 2.06-.94-2.06-.94-.94-2.06-.94 2.06-2.06.94zm-11 1L8.5 8.5l.94-2.06 2.06-.94-2.06-.94L8.5 2.5l-.94 2.06-2.06.94zm10 10l.94 2.06.94-2.06 2.06-.94-2.06-.94-.94-2.06-.94 2.06-2.06.94z\"/><path d=\"M17.41 7.96l-1.37-1.37c-.4-.4-.92-.59-1.43-.59-.52 0-1.04.2-1.43.59L10.3 9.45l-7.72 7.72c-.78.78-.78 2.05 0 2.83L4 21.41c.39.39.9.59 1.41.59.51 0 1.02-.2 1.41-.59l7.78-7.78 2.81-2.81c.8-.78.8-2.07 0-2.86zM5.41 20L4 18.59l7.72-7.72 1.47 1.35L5.41 20z\"/>\n",
              "  </svg>\n",
              "      </button>\n",
              "      \n",
              "  <style>\n",
              "    .colab-df-container {\n",
              "      display:flex;\n",
              "      flex-wrap:wrap;\n",
              "      gap: 12px;\n",
              "    }\n",
              "\n",
              "    .colab-df-convert {\n",
              "      background-color: #E8F0FE;\n",
              "      border: none;\n",
              "      border-radius: 50%;\n",
              "      cursor: pointer;\n",
              "      display: none;\n",
              "      fill: #1967D2;\n",
              "      height: 32px;\n",
              "      padding: 0 0 0 0;\n",
              "      width: 32px;\n",
              "    }\n",
              "\n",
              "    .colab-df-convert:hover {\n",
              "      background-color: #E2EBFA;\n",
              "      box-shadow: 0px 1px 2px rgba(60, 64, 67, 0.3), 0px 1px 3px 1px rgba(60, 64, 67, 0.15);\n",
              "      fill: #174EA6;\n",
              "    }\n",
              "\n",
              "    [theme=dark] .colab-df-convert {\n",
              "      background-color: #3B4455;\n",
              "      fill: #D2E3FC;\n",
              "    }\n",
              "\n",
              "    [theme=dark] .colab-df-convert:hover {\n",
              "      background-color: #434B5C;\n",
              "      box-shadow: 0px 1px 3px 1px rgba(0, 0, 0, 0.15);\n",
              "      filter: drop-shadow(0px 1px 2px rgba(0, 0, 0, 0.3));\n",
              "      fill: #FFFFFF;\n",
              "    }\n",
              "  </style>\n",
              "\n",
              "      <script>\n",
              "        const buttonEl =\n",
              "          document.querySelector('#df-a43b8afe-a154-4bde-94bd-37824337ce77 button.colab-df-convert');\n",
              "        buttonEl.style.display =\n",
              "          google.colab.kernel.accessAllowed ? 'block' : 'none';\n",
              "\n",
              "        async function convertToInteractive(key) {\n",
              "          const element = document.querySelector('#df-a43b8afe-a154-4bde-94bd-37824337ce77');\n",
              "          const dataTable =\n",
              "            await google.colab.kernel.invokeFunction('convertToInteractive',\n",
              "                                                     [key], {});\n",
              "          if (!dataTable) return;\n",
              "\n",
              "          const docLinkHtml = 'Like what you see? Visit the ' +\n",
              "            '<a target=\"_blank\" href=https://colab.research.google.com/notebooks/data_table.ipynb>data table notebook</a>'\n",
              "            + ' to learn more about interactive tables.';\n",
              "          element.innerHTML = '';\n",
              "          dataTable['output_type'] = 'display_data';\n",
              "          await google.colab.output.renderOutput(dataTable, element);\n",
              "          const docLink = document.createElement('div');\n",
              "          docLink.innerHTML = docLinkHtml;\n",
              "          element.appendChild(docLink);\n",
              "        }\n",
              "      </script>\n",
              "    </div>\n",
              "  </div>\n",
              "  "
            ]
          },
          "metadata": {},
          "execution_count": 6
        }
      ],
      "source": [
        "test_df.head()"
      ]
    },
    {
      "cell_type": "code",
      "execution_count": 8,
      "metadata": {
        "execution": {
          "iopub.execute_input": "2022-06-23T07:33:46.440989Z",
          "iopub.status.busy": "2022-06-23T07:33:46.440267Z",
          "iopub.status.idle": "2022-06-23T07:33:46.454177Z",
          "shell.execute_reply": "2022-06-23T07:33:46.453480Z",
          "shell.execute_reply.started": "2022-06-23T06:59:00.007597Z"
        },
        "papermill": {
          "duration": 0.065042,
          "end_time": "2022-06-23T07:33:46.454316",
          "exception": false,
          "start_time": "2022-06-23T07:33:46.389274",
          "status": "completed"
        },
        "tags": [],
        "colab": {
          "base_uri": "https://localhost:8080/",
          "height": 206
        },
        "id": "4EE1MeKSoYb2",
        "outputId": "4b1a1d95-0673-470f-f2f9-50dcd19fe57c"
      },
      "outputs": [
        {
          "output_type": "execute_result",
          "data": {
            "text/plain": [
              "   patient cancer\n",
              "0        1    ALL\n",
              "1        2    ALL\n",
              "2        3    ALL\n",
              "3        4    ALL\n",
              "4        5    ALL"
            ],
            "text/html": [
              "\n",
              "  <div id=\"df-309f749c-44eb-49cb-a744-49ae73af921a\">\n",
              "    <div class=\"colab-df-container\">\n",
              "      <div>\n",
              "<style scoped>\n",
              "    .dataframe tbody tr th:only-of-type {\n",
              "        vertical-align: middle;\n",
              "    }\n",
              "\n",
              "    .dataframe tbody tr th {\n",
              "        vertical-align: top;\n",
              "    }\n",
              "\n",
              "    .dataframe thead th {\n",
              "        text-align: right;\n",
              "    }\n",
              "</style>\n",
              "<table border=\"1\" class=\"dataframe\">\n",
              "  <thead>\n",
              "    <tr style=\"text-align: right;\">\n",
              "      <th></th>\n",
              "      <th>patient</th>\n",
              "      <th>cancer</th>\n",
              "    </tr>\n",
              "  </thead>\n",
              "  <tbody>\n",
              "    <tr>\n",
              "      <th>0</th>\n",
              "      <td>1</td>\n",
              "      <td>ALL</td>\n",
              "    </tr>\n",
              "    <tr>\n",
              "      <th>1</th>\n",
              "      <td>2</td>\n",
              "      <td>ALL</td>\n",
              "    </tr>\n",
              "    <tr>\n",
              "      <th>2</th>\n",
              "      <td>3</td>\n",
              "      <td>ALL</td>\n",
              "    </tr>\n",
              "    <tr>\n",
              "      <th>3</th>\n",
              "      <td>4</td>\n",
              "      <td>ALL</td>\n",
              "    </tr>\n",
              "    <tr>\n",
              "      <th>4</th>\n",
              "      <td>5</td>\n",
              "      <td>ALL</td>\n",
              "    </tr>\n",
              "  </tbody>\n",
              "</table>\n",
              "</div>\n",
              "      <button class=\"colab-df-convert\" onclick=\"convertToInteractive('df-309f749c-44eb-49cb-a744-49ae73af921a')\"\n",
              "              title=\"Convert this dataframe to an interactive table.\"\n",
              "              style=\"display:none;\">\n",
              "        \n",
              "  <svg xmlns=\"http://www.w3.org/2000/svg\" height=\"24px\"viewBox=\"0 0 24 24\"\n",
              "       width=\"24px\">\n",
              "    <path d=\"M0 0h24v24H0V0z\" fill=\"none\"/>\n",
              "    <path d=\"M18.56 5.44l.94 2.06.94-2.06 2.06-.94-2.06-.94-.94-2.06-.94 2.06-2.06.94zm-11 1L8.5 8.5l.94-2.06 2.06-.94-2.06-.94L8.5 2.5l-.94 2.06-2.06.94zm10 10l.94 2.06.94-2.06 2.06-.94-2.06-.94-.94-2.06-.94 2.06-2.06.94z\"/><path d=\"M17.41 7.96l-1.37-1.37c-.4-.4-.92-.59-1.43-.59-.52 0-1.04.2-1.43.59L10.3 9.45l-7.72 7.72c-.78.78-.78 2.05 0 2.83L4 21.41c.39.39.9.59 1.41.59.51 0 1.02-.2 1.41-.59l7.78-7.78 2.81-2.81c.8-.78.8-2.07 0-2.86zM5.41 20L4 18.59l7.72-7.72 1.47 1.35L5.41 20z\"/>\n",
              "  </svg>\n",
              "      </button>\n",
              "      \n",
              "  <style>\n",
              "    .colab-df-container {\n",
              "      display:flex;\n",
              "      flex-wrap:wrap;\n",
              "      gap: 12px;\n",
              "    }\n",
              "\n",
              "    .colab-df-convert {\n",
              "      background-color: #E8F0FE;\n",
              "      border: none;\n",
              "      border-radius: 50%;\n",
              "      cursor: pointer;\n",
              "      display: none;\n",
              "      fill: #1967D2;\n",
              "      height: 32px;\n",
              "      padding: 0 0 0 0;\n",
              "      width: 32px;\n",
              "    }\n",
              "\n",
              "    .colab-df-convert:hover {\n",
              "      background-color: #E2EBFA;\n",
              "      box-shadow: 0px 1px 2px rgba(60, 64, 67, 0.3), 0px 1px 3px 1px rgba(60, 64, 67, 0.15);\n",
              "      fill: #174EA6;\n",
              "    }\n",
              "\n",
              "    [theme=dark] .colab-df-convert {\n",
              "      background-color: #3B4455;\n",
              "      fill: #D2E3FC;\n",
              "    }\n",
              "\n",
              "    [theme=dark] .colab-df-convert:hover {\n",
              "      background-color: #434B5C;\n",
              "      box-shadow: 0px 1px 3px 1px rgba(0, 0, 0, 0.15);\n",
              "      filter: drop-shadow(0px 1px 2px rgba(0, 0, 0, 0.3));\n",
              "      fill: #FFFFFF;\n",
              "    }\n",
              "  </style>\n",
              "\n",
              "      <script>\n",
              "        const buttonEl =\n",
              "          document.querySelector('#df-309f749c-44eb-49cb-a744-49ae73af921a button.colab-df-convert');\n",
              "        buttonEl.style.display =\n",
              "          google.colab.kernel.accessAllowed ? 'block' : 'none';\n",
              "\n",
              "        async function convertToInteractive(key) {\n",
              "          const element = document.querySelector('#df-309f749c-44eb-49cb-a744-49ae73af921a');\n",
              "          const dataTable =\n",
              "            await google.colab.kernel.invokeFunction('convertToInteractive',\n",
              "                                                     [key], {});\n",
              "          if (!dataTable) return;\n",
              "\n",
              "          const docLinkHtml = 'Like what you see? Visit the ' +\n",
              "            '<a target=\"_blank\" href=https://colab.research.google.com/notebooks/data_table.ipynb>data table notebook</a>'\n",
              "            + ' to learn more about interactive tables.';\n",
              "          element.innerHTML = '';\n",
              "          dataTable['output_type'] = 'display_data';\n",
              "          await google.colab.output.renderOutput(dataTable, element);\n",
              "          const docLink = document.createElement('div');\n",
              "          docLink.innerHTML = docLinkHtml;\n",
              "          element.appendChild(docLink);\n",
              "        }\n",
              "      </script>\n",
              "    </div>\n",
              "  </div>\n",
              "  "
            ]
          },
          "metadata": {},
          "execution_count": 8
        }
      ],
      "source": [
        "actual_df = pd.read_csv('actual.csv')\n",
        "actual_df.head()"
      ]
    },
    {
      "cell_type": "code",
      "execution_count": 9,
      "metadata": {
        "execution": {
          "iopub.execute_input": "2022-06-23T07:33:46.553257Z",
          "iopub.status.busy": "2022-06-23T07:33:46.552572Z",
          "iopub.status.idle": "2022-06-23T07:33:46.558196Z",
          "shell.execute_reply": "2022-06-23T07:33:46.556901Z",
          "shell.execute_reply.started": "2022-06-23T06:59:00.188608Z"
        },
        "papermill": {
          "duration": 0.05833,
          "end_time": "2022-06-23T07:33:46.558447",
          "exception": false,
          "start_time": "2022-06-23T07:33:46.500117",
          "status": "completed"
        },
        "tags": [],
        "colab": {
          "base_uri": "https://localhost:8080/"
        },
        "id": "7AliL42VoYb8",
        "outputId": "e4cbb12f-9100-4b92-8383-637a1606d059"
      },
      "outputs": [
        {
          "output_type": "stream",
          "name": "stdout",
          "text": [
            "Number of value counts \n",
            "ALL    47\n",
            "AML    25\n",
            "Name: cancer, dtype: int64\n",
            "The shape of the actual (72, 2)\n"
          ]
        }
      ],
      "source": [
        "print(f\"Number of value counts \\n{actual_df['cancer'].value_counts()}\")\n",
        "print(f\"The shape of the actual {actual_df.shape}\")"
      ]
    },
    {
      "cell_type": "markdown",
      "metadata": {
        "papermill": {
          "duration": 0.043898,
          "end_time": "2022-06-23T07:33:46.648270",
          "exception": false,
          "start_time": "2022-06-23T07:33:46.604372",
          "status": "completed"
        },
        "tags": [],
        "id": "Seri5U1RoYcT"
      },
      "source": [
        "<b>Checking The number of labels to check for imbalance(imbalance that is when count of a class is larger than more than half of the other label class data set but from our dataset it shows there is no much diffrence between our labels </b>\n"
      ]
    },
    {
      "cell_type": "markdown",
      "metadata": {
        "papermill": {
          "duration": 0.044286,
          "end_time": "2022-06-23T07:33:46.737009",
          "exception": false,
          "start_time": "2022-06-23T07:33:46.692723",
          "status": "completed"
        },
        "tags": [],
        "id": "IZ-ErW4BoYcY"
      },
      "source": [
        "<b> Recoding labels to numeric since most machine learning models works only with numeric data and not categorical there is need for our labels to be recoded back to numerics</b>"
      ]
    },
    {
      "cell_type": "code",
      "execution_count": 10,
      "metadata": {
        "execution": {
          "iopub.execute_input": "2022-06-23T07:33:46.836724Z",
          "iopub.status.busy": "2022-06-23T07:33:46.835674Z",
          "iopub.status.idle": "2022-06-23T07:33:46.839369Z",
          "shell.execute_reply": "2022-06-23T07:33:46.838791Z",
          "shell.execute_reply.started": "2022-06-23T06:59:00.685460Z"
        },
        "papermill": {
          "duration": 0.058029,
          "end_time": "2022-06-23T07:33:46.839518",
          "exception": false,
          "start_time": "2022-06-23T07:33:46.781489",
          "status": "completed"
        },
        "tags": [],
        "id": "hlh2BzfQoYcb"
      },
      "outputs": [],
      "source": [
        "y = actual_df.replace({'ALL':0, 'AML':1})\n",
        "y = y.set_index('patient')\n",
        "labels = ['ALL', 'AML']"
      ]
    },
    {
      "cell_type": "code",
      "execution_count": 11,
      "metadata": {
        "execution": {
          "iopub.execute_input": "2022-06-23T07:33:46.943383Z",
          "iopub.status.busy": "2022-06-23T07:33:46.942464Z",
          "iopub.status.idle": "2022-06-23T07:33:47.121939Z",
          "shell.execute_reply": "2022-06-23T07:33:47.121173Z",
          "shell.execute_reply.started": "2022-06-23T06:59:00.950082Z"
        },
        "papermill": {
          "duration": 0.238242,
          "end_time": "2022-06-23T07:33:47.122072",
          "exception": false,
          "start_time": "2022-06-23T07:33:46.883830",
          "status": "completed"
        },
        "tags": [],
        "colab": {
          "base_uri": "https://localhost:8080/",
          "height": 280
        },
        "id": "zlhfKhXPoYcf",
        "outputId": "7a47013b-888a-4f3a-f271-b08d5064f43e"
      },
      "outputs": [
        {
          "output_type": "execute_result",
          "data": {
            "text/plain": [
              "<matplotlib.axes._subplots.AxesSubplot at 0x7fdd40b83bd0>"
            ]
          },
          "metadata": {},
          "execution_count": 11
        },
        {
          "output_type": "display_data",
          "data": {
            "text/plain": [
              "<Figure size 432x288 with 1 Axes>"
            ],
            "image/png": "[encoded data removed]"
          },
          "metadata": {
            "needs_background": "light"
          }
        }
      ],
      "source": [
        "#visualising the labels for clarity of inbalance cause imbalance data may bias the predictio\n",
        "y[\"cancer\"].value_counts().plot(kind='bar', )"
      ]
    },
    {
      "cell_type": "markdown",
      "metadata": {
        "papermill": {
          "duration": 0.045148,
          "end_time": "2022-06-23T07:33:47.212705",
          "exception": false,
          "start_time": "2022-06-23T07:33:47.167557",
          "status": "completed"
        },
        "tags": [],
        "id": "Uml5lL16oYck"
      },
      "source": [
        "##Feature Engineering"
      ]
    },
    {
      "cell_type": "code",
      "execution_count": 12,
      "metadata": {
        "execution": {
          "iopub.execute_input": "2022-06-23T07:33:47.315246Z",
          "iopub.status.busy": "2022-06-23T07:33:47.314391Z",
          "iopub.status.idle": "2022-06-23T07:33:47.335126Z",
          "shell.execute_reply": "2022-06-23T07:33:47.335723Z",
          "shell.execute_reply.started": "2022-06-23T06:59:01.869880Z"
        },
        "papermill": {
          "duration": 0.078124,
          "end_time": "2022-06-23T07:33:47.335901",
          "exception": false,
          "start_time": "2022-06-23T07:33:47.257777",
          "status": "completed"
        },
        "tags": [],
        "id": "7p8L5fisoYcm"
      },
      "outputs": [],
      "source": [
        "#using ACO\n",
        "class ant:\n",
        "    def __init__(self, G, start = 'S', end = 'T', alpha = 1, beta = 1):\n",
        "        self.G = G\n",
        "        self.current_city, self.target_city = start, end\n",
        "        self.alpha, self.beta = alpha, beta\n",
        "        self.route = {self.current_city : 0}\n",
        "        self.L = 0\n",
        "        \n",
        "        \n",
        "        def move(self):\n",
        "            if self.current_city == self.target_city: return\n",
        "            #Dont visit an already followed path\n",
        "            possible_edges = [e for e in G.edges([self.current_city]) if e[1] not in self.route]\n",
        "            possible_cities = [e[1] for e in possible_edges]\n",
        "            \n",
        "            distances = np.array([G.edges[e]['weight'] for e in possible_edges])\n",
        "            pheromons = np.array([G.edges[e]['pheromone'] for e in possible_edges])\n",
        "            \n",
        "            preferences = pheromons**self.alpha/distance**self.beta\n",
        "            probabilities = preferences/preferences.sum()\n",
        "            \n",
        "            new_city = np.random.choice(a = possible_cities, size=1,\n",
        "                                       p =probabilities)[0]\n",
        "            self.L += self.G.edges[(self.current_city, new_city)]['weight']\n",
        "            self.current_city = new_city\n",
        "            self.route[self.current_city] = len(self.route)\n",
        "            \n",
        "        def go():\n",
        "            for i in range(self.G.number_of_nodes()):\n",
        "                self.move()\n",
        "        def get_path(self):\n",
        "            inv_route = {v:k for k, v in self.route.items()}\n",
        "            return [inv_route[i] for i in range(len(inv_route))]\n",
        "class antcolony(ant):\n",
        "    def __init__(self, G, start = 'S', end = 'T', alpha = 1, beta = 1):\n",
        "        self.G, eps = G, 0.0001\n",
        "        nx.set_edge_attributes(self.G, eps, 'pheromone')\n",
        "        self.start, self.end = start, end\n",
        "        self.alpha, self.beta = alpha, beta\n",
        "        \n",
        "    def evaporation(self, decay = 0.05):\n",
        "        #Evaporation of pheromon\n",
        "        phe = nx.get_edge_attribute(G, 'pheromone')\n",
        "        new_phe = {k:v * (1 - decay) for k,v in phe.items()}\n",
        "        nx.set_edge_attributes(self.G, new_phe, 'pheromone')\n",
        "         \n",
        "    def deposit(self, route, L, delta =1):\n",
        "        for i,j in zip(route[:-1], route[1:]):\n",
        "            self.G.edges[(i, j)]['pheromone'] += delta/L\n",
        "            \n",
        "    def run(self, number_of_ants =10, time=20):\n",
        "        #in each time step\n",
        "        for t in range(time):\n",
        "            #K ants exist in the colony\n",
        "            self.colony = [ant(self.G, self.start, self.end, self.alpha, self.beta)\n",
        "                          for k in range(number_of_ants)]\n",
        "            for k in range(number_of_ants): self.colony[k].go()\n",
        "            for k in range(number_of_ants):\n",
        "                self.deposit(route=self.colony[k].get_path(),\n",
        "                            L = self.colony[k].L)\n",
        "            self.evaporation()"
      ]
    },
    {
      "cell_type": "markdown",
      "metadata": {
        "papermill": {
          "duration": 0.045534,
          "end_time": "2022-06-23T07:33:47.427591",
          "exception": false,
          "start_time": "2022-06-23T07:33:47.382057",
          "status": "completed"
        },
        "tags": [],
        "id": "rg-d_ucwoYcq"
      },
      "source": [
        "<b> Some EDA (exploratory data analsis to know our data more) </b>"
      ]
    },
    {
      "cell_type": "code",
      "execution_count": 13,
      "metadata": {
        "execution": {
          "iopub.execute_input": "2022-06-23T07:33:47.522146Z",
          "iopub.status.busy": "2022-06-23T07:33:47.521435Z",
          "iopub.status.idle": "2022-06-23T07:33:47.527818Z",
          "shell.execute_reply": "2022-06-23T07:33:47.528538Z",
          "shell.execute_reply.started": "2022-06-23T06:59:02.736325Z"
        },
        "papermill": {
          "duration": 0.055512,
          "end_time": "2022-06-23T07:33:47.528696",
          "exception": false,
          "start_time": "2022-06-23T07:33:47.473184",
          "status": "completed"
        },
        "tags": [],
        "colab": {
          "base_uri": "https://localhost:8080/"
        },
        "id": "q8aBuCZFoYcy",
        "outputId": "d6f37ff8-3556-48e2-b9e7-7138a2fd42df"
      },
      "outputs": [
        {
          "output_type": "stream",
          "name": "stdout",
          "text": [
            "Shape of Training Data:  (7129, 78)\n",
            "Shape of Testing Data:  (7129, 70)\n"
          ]
        }
      ],
      "source": [
        "#checkking to see the shape of our data set\n",
        "print(\"Shape of Training Data: \", train_df.shape)\n",
        "print(\"Shape of Testing Data: \", test_df.shape)"
      ]
    },
    {
      "cell_type": "markdown",
      "metadata": {
        "papermill": {
          "duration": 0.046135,
          "end_time": "2022-06-23T07:33:47.620869",
          "exception": false,
          "start_time": "2022-06-23T07:33:47.574734",
          "status": "completed"
        },
        "tags": [],
        "id": "bNTx_1XBoYc1"
      },
      "source": [
        "<b>The train test has 7129 rows and 78 columns\n",
        "while our testing data set has also 7129 rows and 70 columns</b>"
      ]
    },
    {
      "cell_type": "code",
      "execution_count": 14,
      "metadata": {
        "execution": {
          "iopub.execute_input": "2022-06-23T07:33:47.722843Z",
          "iopub.status.busy": "2022-06-23T07:33:47.722080Z",
          "iopub.status.idle": "2022-06-23T07:33:47.725687Z",
          "shell.execute_reply": "2022-06-23T07:33:47.726232Z",
          "shell.execute_reply.started": "2022-06-23T06:59:03.261171Z"
        },
        "papermill": {
          "duration": 0.059815,
          "end_time": "2022-06-23T07:33:47.726385",
          "exception": false,
          "start_time": "2022-06-23T07:33:47.666570",
          "status": "completed"
        },
        "tags": [],
        "colab": {
          "base_uri": "https://localhost:8080/"
        },
        "id": "ma0IQr0noYc3",
        "outputId": "792b5c23-1518-44b8-c88c-db5637ef95aa"
      },
      "outputs": [
        {
          "output_type": "execute_result",
          "data": {
            "text/plain": [
              "A    5003\n",
              "P    1993\n",
              "M     133\n",
              "Name: call, dtype: int64"
            ]
          },
          "metadata": {},
          "execution_count": 14
        }
      ],
      "source": [
        "#some eda to check the relevance of the call columns \n",
        "train_df['call'].value_counts()"
      ]
    },
    {
      "cell_type": "code",
      "execution_count": 15,
      "metadata": {
        "execution": {
          "iopub.execute_input": "2022-06-23T07:33:47.838820Z",
          "iopub.status.busy": "2022-06-23T07:33:47.837959Z",
          "iopub.status.idle": "2022-06-23T07:33:47.840040Z",
          "shell.execute_reply": "2022-06-23T07:33:47.840577Z",
          "shell.execute_reply.started": "2022-06-23T06:59:03.698239Z"
        },
        "papermill": {
          "duration": 0.067052,
          "end_time": "2022-06-23T07:33:47.840725",
          "exception": false,
          "start_time": "2022-06-23T07:33:47.773673",
          "status": "completed"
        },
        "tags": [],
        "id": "PB8BqDFBoYc5"
      },
      "outputs": [],
      "source": [
        "#The call column has no much of information so it wiil be looked into\n",
        "train_to_keep=[col for col in train_df.columns if \"call\" not in col]\n",
        "test_to_keep=[col for col in test_df.columns if \"call\" not in col]\n",
        "#the train and test set we will continue exploring with\n",
        "\n",
        "\n",
        "#slicing the the columns to be used from the train_df and test_df \n",
        "X_train = train_df[train_to_keep]\n",
        "X_test = test_df[test_to_keep]"
      ]
    },
    {
      "cell_type": "markdown",
      "metadata": {
        "papermill": {
          "duration": 0.046863,
          "end_time": "2022-06-23T07:33:47.934432",
          "exception": false,
          "start_time": "2022-06-23T07:33:47.887569",
          "status": "completed"
        },
        "tags": [],
        "id": "rYIg0OMQoYc7"
      },
      "source": [
        "<b>Now we can simply transpose both training and testing dataframes so that genes become columns(features) and patients become rows.</b>"
      ]
    },
    {
      "cell_type": "code",
      "execution_count": 16,
      "metadata": {
        "execution": {
          "iopub.execute_input": "2022-06-23T07:33:48.031758Z",
          "iopub.status.busy": "2022-06-23T07:33:48.031033Z",
          "iopub.status.idle": "2022-06-23T07:33:49.025926Z",
          "shell.execute_reply": "2022-06-23T07:33:49.025151Z",
          "shell.execute_reply.started": "2022-06-23T06:59:04.982045Z"
        },
        "papermill": {
          "duration": 1.045365,
          "end_time": "2022-06-23T07:33:49.026052",
          "exception": false,
          "start_time": "2022-06-23T07:33:47.980687",
          "status": "completed"
        },
        "tags": [],
        "id": "3zZJOiZSoYc8"
      },
      "outputs": [],
      "source": [
        "X_train = X_train.T\n",
        "X_test = X_test.T"
      ]
    },
    {
      "cell_type": "code",
      "execution_count": 17,
      "metadata": {
        "execution": {
          "iopub.execute_input": "2022-06-23T07:33:49.124732Z",
          "iopub.status.busy": "2022-06-23T07:33:49.123728Z",
          "iopub.status.idle": "2022-06-23T07:33:49.126508Z",
          "shell.execute_reply": "2022-06-23T07:33:49.127055Z",
          "shell.execute_reply.started": "2022-06-23T06:59:05.589430Z"
        },
        "papermill": {
          "duration": 0.054398,
          "end_time": "2022-06-23T07:33:49.127226",
          "exception": false,
          "start_time": "2022-06-23T07:33:49.072828",
          "status": "completed"
        },
        "tags": [],
        "id": "LzsNrKw3oYdt"
      },
      "outputs": [],
      "source": [
        "#renamig the ant \n",
        "ant_xtrain = X_train.values\n",
        "ant_xtest = X_test.values"
      ]
    },
    {
      "cell_type": "markdown",
      "metadata": {
        "papermill": {
          "duration": 0.045912,
          "end_time": "2022-06-23T07:33:49.219389",
          "exception": false,
          "start_time": "2022-06-23T07:33:49.173477",
          "status": "completed"
        },
        "tags": [],
        "id": "d0USidiqoYd8"
      },
      "source": [
        "The first 2 rows are duplicated so we can remove 'Gene Description' and set 'Gene Accession Number' as the column headers."
      ]
    },
    {
      "cell_type": "code",
      "execution_count": 18,
      "metadata": {
        "execution": {
          "iopub.execute_input": "2022-06-23T07:33:49.315686Z",
          "iopub.status.busy": "2022-06-23T07:33:49.314617Z",
          "iopub.status.idle": "2022-06-23T07:33:49.342934Z",
          "shell.execute_reply": "2022-06-23T07:33:49.343464Z",
          "shell.execute_reply.started": "2022-06-23T06:59:06.110951Z"
        },
        "papermill": {
          "duration": 0.078334,
          "end_time": "2022-06-23T07:33:49.343633",
          "exception": false,
          "start_time": "2022-06-23T07:33:49.265299",
          "status": "completed"
        },
        "tags": [],
        "colab": {
          "base_uri": "https://localhost:8080/",
          "height": 421
        },
        "id": "GZty5wrAoYd-",
        "outputId": "77b3aeda-f225-4bcf-86ce-0a9a8229978b"
      },
      "outputs": [
        {
          "output_type": "execute_result",
          "data": {
            "text/plain": [
              "                                                      0     \\\n",
              "Gene Description       AFFX-BioB-5_at (endogenous control)   \n",
              "Gene Accession Number                       AFFX-BioB-5_at   \n",
              "1                                                     -214   \n",
              "2                                                     -139   \n",
              "3                                                      -76   \n",
              "\n",
              "                                                      1     \\\n",
              "Gene Description       AFFX-BioB-M_at (endogenous control)   \n",
              "Gene Accession Number                       AFFX-BioB-M_at   \n",
              "1                                                     -153   \n",
              "2                                                      -73   \n",
              "3                                                      -49   \n",
              "\n",
              "                                                      2     \\\n",
              "Gene Description       AFFX-BioB-3_at (endogenous control)   \n",
              "Gene Accession Number                       AFFX-BioB-3_at   \n",
              "1                                                      -58   \n",
              "2                                                       -1   \n",
              "3                                                     -307   \n",
              "\n",
              "                                                      3     \\\n",
              "Gene Description       AFFX-BioC-5_at (endogenous control)   \n",
              "Gene Accession Number                       AFFX-BioC-5_at   \n",
              "1                                                       88   \n",
              "2                                                      283   \n",
              "3                                                      309   \n",
              "\n",
              "                                                      4     \\\n",
              "Gene Description       AFFX-BioC-3_at (endogenous control)   \n",
              "Gene Accession Number                       AFFX-BioC-3_at   \n",
              "1                                                     -295   \n",
              "2                                                     -264   \n",
              "3                                                     -376   \n",
              "\n",
              "                                                       5     \\\n",
              "Gene Description       AFFX-BioDn-5_at (endogenous control)   \n",
              "Gene Accession Number                       AFFX-BioDn-5_at   \n",
              "1                                                      -558   \n",
              "2                                                      -400   \n",
              "3                                                      -650   \n",
              "\n",
              "                                                       6     \\\n",
              "Gene Description       AFFX-BioDn-3_at (endogenous control)   \n",
              "Gene Accession Number                       AFFX-BioDn-3_at   \n",
              "1                                                       199   \n",
              "2                                                      -330   \n",
              "3                                                        33   \n",
              "\n",
              "                                                      7     \\\n",
              "Gene Description       AFFX-CreX-5_at (endogenous control)   \n",
              "Gene Accession Number                       AFFX-CreX-5_at   \n",
              "1                                                     -176   \n",
              "2                                                     -168   \n",
              "3                                                     -367   \n",
              "\n",
              "                                                      8     \\\n",
              "Gene Description       AFFX-CreX-3_at (endogenous control)   \n",
              "Gene Accession Number                       AFFX-CreX-3_at   \n",
              "1                                                      252   \n",
              "2                                                      101   \n",
              "3                                                      206   \n",
              "\n",
              "                                                      9     ...  \\\n",
              "Gene Description       AFFX-BioB-5_st (endogenous control)  ...   \n",
              "Gene Accession Number                       AFFX-BioB-5_st  ...   \n",
              "1                                                      206  ...   \n",
              "2                                                       74  ...   \n",
              "3                                                     -215  ...   \n",
              "\n",
              "                                                            7119  \\\n",
              "Gene Description       Transcription factor Stat5b (stat5b) mRNA   \n",
              "Gene Accession Number                                  U48730_at   \n",
              "1                                                            185   \n",
              "2                                                            169   \n",
              "3                                                            315   \n",
              "\n",
              "                                                      7120  \\\n",
              "Gene Description       Breast epithelial antigen BA46 mRNA   \n",
              "Gene Accession Number                            U58516_at   \n",
              "1                                                      511   \n",
              "2                                                      837   \n",
              "3                                                     1199   \n",
              "\n",
              "                                                                    7121  \\\n",
              "Gene Description       GB DEF = Calcium/calmodulin-dependent protein ...   \n",
              "Gene Accession Number                                          U73738_at   \n",
              "1                                                                   -125   \n",
              "2                                                                    -36   \n",
              "3                                                                     33   \n",
              "\n",
              "                                        7122  \\\n",
              "Gene Description       TUBULIN ALPHA-4 CHAIN   \n",
              "Gene Accession Number              X06956_at   \n",
              "1                                        389   \n",
              "2                                        442   \n",
              "3                                        168   \n",
              "\n",
              "                                                                    7123  \\\n",
              "Gene Description       CYP4B1 Cytochrome P450; subfamily IVB; polypep...   \n",
              "Gene Accession Number                                          X16699_at   \n",
              "1                                                                    -37   \n",
              "2                                                                    -17   \n",
              "3                                                                     52   \n",
              "\n",
              "                                                                    7124  \\\n",
              "Gene Description       PTGER3 Prostaglandin E receptor 3 (subtype EP3...   \n",
              "Gene Accession Number                                          X83863_at   \n",
              "1                                                                    793   \n",
              "2                                                                    782   \n",
              "3                                                                   1138   \n",
              "\n",
              "                                                                    7125  \\\n",
              "Gene Description       HMG2 High-mobility group (nonhistone chromosom...   \n",
              "Gene Accession Number                                          Z17240_at   \n",
              "1                                                                    329   \n",
              "2                                                                    295   \n",
              "3                                                                    777   \n",
              "\n",
              "                                                                7126  \\\n",
              "Gene Description       RB1 Retinoblastoma 1 (including osteosarcoma)   \n",
              "Gene Accession Number                                    L49218_f_at   \n",
              "1                                                                 36   \n",
              "2                                                                 11   \n",
              "3                                                                 41   \n",
              "\n",
              "                                                                    7127  \\\n",
              "Gene Description       GB DEF = Glycophorin Sta (type A) exons 3 and ...   \n",
              "Gene Accession Number                                        M71243_f_at   \n",
              "1                                                                    191   \n",
              "2                                                                     76   \n",
              "3                                                                    228   \n",
              "\n",
              "                                            7128  \n",
              "Gene Description       GB DEF = mRNA (clone 1A7)  \n",
              "Gene Accession Number                Z78285_f_at  \n",
              "1                                            -37  \n",
              "2                                            -14  \n",
              "3                                            -41  \n",
              "\n",
              "[5 rows x 7129 columns]"
            ],
            "text/html": [
              "\n",
              "  <div id=\"df-948c59d7-eb9b-4dd5-b1d3-e427cb267307\">\n",
              "    <div class=\"colab-df-container\">\n",
              "      <div>\n",
              "<style scoped>\n",
              "    .dataframe tbody tr th:only-of-type {\n",
              "        vertical-align: middle;\n",
              "    }\n",
              "\n",
              "    .dataframe tbody tr th {\n",
              "        vertical-align: top;\n",
              "    }\n",
              "\n",
              "    .dataframe thead th {\n",
              "        text-align: right;\n",
              "    }\n",
              "</style>\n",
              "<table border=\"1\" class=\"dataframe\">\n",
              "  <thead>\n",
              "    <tr style=\"text-align: right;\">\n",
              "      <th></th>\n",
              "      <th>0</th>\n",
              "      <th>1</th>\n",
              "      <th>2</th>\n",
              "      <th>3</th>\n",
              "      <th>4</th>\n",
              "      <th>5</th>\n",
              "      <th>6</th>\n",
              "      <th>7</th>\n",
              "      <th>8</th>\n",
              "      <th>9</th>\n",
              "      <th>...</th>\n",
              "      <th>7119</th>\n",
              "      <th>7120</th>\n",
              "      <th>7121</th>\n",
              "      <th>7122</th>\n",
              "      <th>7123</th>\n",
              "      <th>7124</th>\n",
              "      <th>7125</th>\n",
              "      <th>7126</th>\n",
              "      <th>7127</th>\n",
              "      <th>7128</th>\n",
              "    </tr>\n",
              "  </thead>\n",
              "  <tbody>\n",
              "    <tr>\n",
              "      <th>Gene Description</th>\n",
              "      <td>AFFX-BioB-5_at (endogenous control)</td>\n",
              "      <td>AFFX-BioB-M_at (endogenous control)</td>\n",
              "      <td>AFFX-BioB-3_at (endogenous control)</td>\n",
              "      <td>AFFX-BioC-5_at (endogenous control)</td>\n",
              "      <td>AFFX-BioC-3_at (endogenous control)</td>\n",
              "      <td>AFFX-BioDn-5_at (endogenous control)</td>\n",
              "      <td>AFFX-BioDn-3_at (endogenous control)</td>\n",
              "      <td>AFFX-CreX-5_at (endogenous control)</td>\n",
              "      <td>AFFX-CreX-3_at (endogenous control)</td>\n",
              "      <td>AFFX-BioB-5_st (endogenous control)</td>\n",
              "      <td>...</td>\n",
              "      <td>Transcription factor Stat5b (stat5b) mRNA</td>\n",
              "      <td>Breast epithelial antigen BA46 mRNA</td>\n",
              "      <td>GB DEF = Calcium/calmodulin-dependent protein ...</td>\n",
              "      <td>TUBULIN ALPHA-4 CHAIN</td>\n",
              "      <td>CYP4B1 Cytochrome P450; subfamily IVB; polypep...</td>\n",
              "      <td>PTGER3 Prostaglandin E receptor 3 (subtype EP3...</td>\n",
              "      <td>HMG2 High-mobility group (nonhistone chromosom...</td>\n",
              "      <td>RB1 Retinoblastoma 1 (including osteosarcoma)</td>\n",
              "      <td>GB DEF = Glycophorin Sta (type A) exons 3 and ...</td>\n",
              "      <td>GB DEF = mRNA (clone 1A7)</td>\n",
              "    </tr>\n",
              "    <tr>\n",
              "      <th>Gene Accession Number</th>\n",
              "      <td>AFFX-BioB-5_at</td>\n",
              "      <td>AFFX-BioB-M_at</td>\n",
              "      <td>AFFX-BioB-3_at</td>\n",
              "      <td>AFFX-BioC-5_at</td>\n",
              "      <td>AFFX-BioC-3_at</td>\n",
              "      <td>AFFX-BioDn-5_at</td>\n",
              "      <td>AFFX-BioDn-3_at</td>\n",
              "      <td>AFFX-CreX-5_at</td>\n",
              "      <td>AFFX-CreX-3_at</td>\n",
              "      <td>AFFX-BioB-5_st</td>\n",
              "      <td>...</td>\n",
              "      <td>U48730_at</td>\n",
              "      <td>U58516_at</td>\n",
              "      <td>U73738_at</td>\n",
              "      <td>X06956_at</td>\n",
              "      <td>X16699_at</td>\n",
              "      <td>X83863_at</td>\n",
              "      <td>Z17240_at</td>\n",
              "      <td>L49218_f_at</td>\n",
              "      <td>M71243_f_at</td>\n",
              "      <td>Z78285_f_at</td>\n",
              "    </tr>\n",
              "    <tr>\n",
              "      <th>1</th>\n",
              "      <td>-214</td>\n",
              "      <td>-153</td>\n",
              "      <td>-58</td>\n",
              "      <td>88</td>\n",
              "      <td>-295</td>\n",
              "      <td>-558</td>\n",
              "      <td>199</td>\n",
              "      <td>-176</td>\n",
              "      <td>252</td>\n",
              "      <td>206</td>\n",
              "      <td>...</td>\n",
              "      <td>185</td>\n",
              "      <td>511</td>\n",
              "      <td>-125</td>\n",
              "      <td>389</td>\n",
              "      <td>-37</td>\n",
              "      <td>793</td>\n",
              "      <td>329</td>\n",
              "      <td>36</td>\n",
              "      <td>191</td>\n",
              "      <td>-37</td>\n",
              "    </tr>\n",
              "    <tr>\n",
              "      <th>2</th>\n",
              "      <td>-139</td>\n",
              "      <td>-73</td>\n",
              "      <td>-1</td>\n",
              "      <td>283</td>\n",
              "      <td>-264</td>\n",
              "      <td>-400</td>\n",
              "      <td>-330</td>\n",
              "      <td>-168</td>\n",
              "      <td>101</td>\n",
              "      <td>74</td>\n",
              "      <td>...</td>\n",
              "      <td>169</td>\n",
              "      <td>837</td>\n",
              "      <td>-36</td>\n",
              "      <td>442</td>\n",
              "      <td>-17</td>\n",
              "      <td>782</td>\n",
              "      <td>295</td>\n",
              "      <td>11</td>\n",
              "      <td>76</td>\n",
              "      <td>-14</td>\n",
              "    </tr>\n",
              "    <tr>\n",
              "      <th>3</th>\n",
              "      <td>-76</td>\n",
              "      <td>-49</td>\n",
              "      <td>-307</td>\n",
              "      <td>309</td>\n",
              "      <td>-376</td>\n",
              "      <td>-650</td>\n",
              "      <td>33</td>\n",
              "      <td>-367</td>\n",
              "      <td>206</td>\n",
              "      <td>-215</td>\n",
              "      <td>...</td>\n",
              "      <td>315</td>\n",
              "      <td>1199</td>\n",
              "      <td>33</td>\n",
              "      <td>168</td>\n",
              "      <td>52</td>\n",
              "      <td>1138</td>\n",
              "      <td>777</td>\n",
              "      <td>41</td>\n",
              "      <td>228</td>\n",
              "      <td>-41</td>\n",
              "    </tr>\n",
              "  </tbody>\n",
              "</table>\n",
              "<p>5 rows × 7129 columns</p>\n",
              "</div>\n",
              "      <button class=\"colab-df-convert\" onclick=\"convertToInteractive('df-948c59d7-eb9b-4dd5-b1d3-e427cb267307')\"\n",
              "              title=\"Convert this dataframe to an interactive table.\"\n",
              "              style=\"display:none;\">\n",
              "        \n",
              "  <svg xmlns=\"http://www.w3.org/2000/svg\" height=\"24px\"viewBox=\"0 0 24 24\"\n",
              "       width=\"24px\">\n",
              "    <path d=\"M0 0h24v24H0V0z\" fill=\"none\"/>\n",
              "    <path d=\"M18.56 5.44l.94 2.06.94-2.06 2.06-.94-2.06-.94-.94-2.06-.94 2.06-2.06.94zm-11 1L8.5 8.5l.94-2.06 2.06-.94-2.06-.94L8.5 2.5l-.94 2.06-2.06.94zm10 10l.94 2.06.94-2.06 2.06-.94-2.06-.94-.94-2.06-.94 2.06-2.06.94z\"/><path d=\"M17.41 7.96l-1.37-1.37c-.4-.4-.92-.59-1.43-.59-.52 0-1.04.2-1.43.59L10.3 9.45l-7.72 7.72c-.78.78-.78 2.05 0 2.83L4 21.41c.39.39.9.59 1.41.59.51 0 1.02-.2 1.41-.59l7.78-7.78 2.81-2.81c.8-.78.8-2.07 0-2.86zM5.41 20L4 18.59l7.72-7.72 1.47 1.35L5.41 20z\"/>\n",
              "  </svg>\n",
              "      </button>\n",
              "      \n",
              "  <style>\n",
              "    .colab-df-container {\n",
              "      display:flex;\n",
              "      flex-wrap:wrap;\n",
              "      gap: 12px;\n",
              "    }\n",
              "\n",
              "    .colab-df-convert {\n",
              "      background-color: #E8F0FE;\n",
              "      border: none;\n",
              "      border-radius: 50%;\n",
              "      cursor: pointer;\n",
              "      display: none;\n",
              "      fill: #1967D2;\n",
              "      height: 32px;\n",
              "      padding: 0 0 0 0;\n",
              "      width: 32px;\n",
              "    }\n",
              "\n",
              "    .colab-df-convert:hover {\n",
              "      background-color: #E2EBFA;\n",
              "      box-shadow: 0px 1px 2px rgba(60, 64, 67, 0.3), 0px 1px 3px 1px rgba(60, 64, 67, 0.15);\n",
              "      fill: #174EA6;\n",
              "    }\n",
              "\n",
              "    [theme=dark] .colab-df-convert {\n",
              "      background-color: #3B4455;\n",
              "      fill: #D2E3FC;\n",
              "    }\n",
              "\n",
              "    [theme=dark] .colab-df-convert:hover {\n",
              "      background-color: #434B5C;\n",
              "      box-shadow: 0px 1px 3px 1px rgba(0, 0, 0, 0.15);\n",
              "      filter: drop-shadow(0px 1px 2px rgba(0, 0, 0, 0.3));\n",
              "      fill: #FFFFFF;\n",
              "    }\n",
              "  </style>\n",
              "\n",
              "      <script>\n",
              "        const buttonEl =\n",
              "          document.querySelector('#df-948c59d7-eb9b-4dd5-b1d3-e427cb267307 button.colab-df-convert');\n",
              "        buttonEl.style.display =\n",
              "          google.colab.kernel.accessAllowed ? 'block' : 'none';\n",
              "\n",
              "        async function convertToInteractive(key) {\n",
              "          const element = document.querySelector('#df-948c59d7-eb9b-4dd5-b1d3-e427cb267307');\n",
              "          const dataTable =\n",
              "            await google.colab.kernel.invokeFunction('convertToInteractive',\n",
              "                                                     [key], {});\n",
              "          if (!dataTable) return;\n",
              "\n",
              "          const docLinkHtml = 'Like what you see? Visit the ' +\n",
              "            '<a target=\"_blank\" href=https://colab.research.google.com/notebooks/data_table.ipynb>data table notebook</a>'\n",
              "            + ' to learn more about interactive tables.';\n",
              "          element.innerHTML = '';\n",
              "          dataTable['output_type'] = 'display_data';\n",
              "          await google.colab.output.renderOutput(dataTable, element);\n",
              "          const docLink = document.createElement('div');\n",
              "          docLink.innerHTML = docLinkHtml;\n",
              "          element.appendChild(docLink);\n",
              "        }\n",
              "      </script>\n",
              "    </div>\n",
              "  </div>\n",
              "  "
            ]
          },
          "metadata": {},
          "execution_count": 18
        }
      ],
      "source": [
        "#viewing the first few rows of the head dataset\n",
        "X_train.head()"
      ]
    },
    {
      "cell_type": "code",
      "execution_count": 19,
      "metadata": {
        "execution": {
          "iopub.execute_input": "2022-06-23T07:33:49.442130Z",
          "iopub.status.busy": "2022-06-23T07:33:49.441030Z",
          "iopub.status.idle": "2022-06-23T07:33:49.458101Z",
          "shell.execute_reply": "2022-06-23T07:33:49.458699Z",
          "shell.execute_reply.started": "2022-06-23T06:59:07.025877Z"
        },
        "papermill": {
          "duration": 0.068425,
          "end_time": "2022-06-23T07:33:49.458882",
          "exception": false,
          "start_time": "2022-06-23T07:33:49.390457",
          "status": "completed"
        },
        "tags": [],
        "id": "K18g8sgfoYeA"
      },
      "outputs": [],
      "source": [
        "#X_train.columns = X_train.iloc[1]\n",
        "#X_test.columns = X_test.iloc[1]\n",
        "#removing the Gene description and Gene accession number rows after the trasponse\n",
        "X_train = X_train.drop(['Gene Description', 'Gene Accession Number'])\n",
        "X_test = X_test.drop(['Gene Description', 'Gene Accession Number'])"
      ]
    },
    {
      "cell_type": "code",
      "execution_count": 20,
      "metadata": {
        "execution": {
          "iopub.execute_input": "2022-06-23T07:33:49.558633Z",
          "iopub.status.busy": "2022-06-23T07:33:49.557566Z",
          "iopub.status.idle": "2022-06-23T07:33:49.585021Z",
          "shell.execute_reply": "2022-06-23T07:33:49.584279Z",
          "shell.execute_reply.started": "2022-06-23T06:59:07.364324Z"
        },
        "papermill": {
          "duration": 0.078382,
          "end_time": "2022-06-23T07:33:49.585145",
          "exception": false,
          "start_time": "2022-06-23T07:33:49.506763",
          "status": "completed"
        },
        "tags": [],
        "colab": {
          "base_uri": "https://localhost:8080/",
          "height": 299
        },
        "id": "cthPghlMoYeC",
        "outputId": "02eb1cbc-fdc3-476c-85db-4efab8d9b738"
      },
      "outputs": [
        {
          "output_type": "execute_result",
          "data": {
            "text/plain": [
              "   0     1     2    3     4     5     6     7    8     9     ... 7119  7120  \\\n",
              "1  -214  -153   -58   88  -295  -558   199  -176  252   206  ...  185   511   \n",
              "2  -139   -73    -1  283  -264  -400  -330  -168  101    74  ...  169   837   \n",
              "3   -76   -49  -307  309  -376  -650    33  -367  206  -215  ...  315  1199   \n",
              "4  -135  -114   265   12  -419  -585   158  -253   49    31  ...  240   835   \n",
              "5  -106  -125   -76  168  -230  -284     4  -122   70   252  ...  156   649   \n",
              "\n",
              "   7121 7122  7123  7124 7125 7126 7127 7128  \n",
              "1  -125  389   -37   793  329   36  191  -37  \n",
              "2   -36  442   -17   782  295   11   76  -14  \n",
              "3    33  168    52  1138  777   41  228  -41  \n",
              "4   218  174  -110   627  170  -50  126  -91  \n",
              "5    57  504   -26   250  314   14   56  -25  \n",
              "\n",
              "[5 rows x 7129 columns]"
            ],
            "text/html": [
              "\n",
              "  <div id=\"df-6f4bd0e7-8707-41b4-be9a-2640bda6c422\">\n",
              "    <div class=\"colab-df-container\">\n",
              "      <div>\n",
              "<style scoped>\n",
              "    .dataframe tbody tr th:only-of-type {\n",
              "        vertical-align: middle;\n",
              "    }\n",
              "\n",
              "    .dataframe tbody tr th {\n",
              "        vertical-align: top;\n",
              "    }\n",
              "\n",
              "    .dataframe thead th {\n",
              "        text-align: right;\n",
              "    }\n",
              "</style>\n",
              "<table border=\"1\" class=\"dataframe\">\n",
              "  <thead>\n",
              "    <tr style=\"text-align: right;\">\n",
              "      <th></th>\n",
              "      <th>0</th>\n",
              "      <th>1</th>\n",
              "      <th>2</th>\n",
              "      <th>3</th>\n",
              "      <th>4</th>\n",
              "      <th>5</th>\n",
              "      <th>6</th>\n",
              "      <th>7</th>\n",
              "      <th>8</th>\n",
              "      <th>9</th>\n",
              "      <th>...</th>\n",
              "      <th>7119</th>\n",
              "      <th>7120</th>\n",
              "      <th>7121</th>\n",
              "      <th>7122</th>\n",
              "      <th>7123</th>\n",
              "      <th>7124</th>\n",
              "      <th>7125</th>\n",
              "      <th>7126</th>\n",
              "      <th>7127</th>\n",
              "      <th>7128</th>\n",
              "    </tr>\n",
              "  </thead>\n",
              "  <tbody>\n",
              "    <tr>\n",
              "      <th>1</th>\n",
              "      <td>-214</td>\n",
              "      <td>-153</td>\n",
              "      <td>-58</td>\n",
              "      <td>88</td>\n",
              "      <td>-295</td>\n",
              "      <td>-558</td>\n",
              "      <td>199</td>\n",
              "      <td>-176</td>\n",
              "      <td>252</td>\n",
              "      <td>206</td>\n",
              "      <td>...</td>\n",
              "      <td>185</td>\n",
              "      <td>511</td>\n",
              "      <td>-125</td>\n",
              "      <td>389</td>\n",
              "      <td>-37</td>\n",
              "      <td>793</td>\n",
              "      <td>329</td>\n",
              "      <td>36</td>\n",
              "      <td>191</td>\n",
              "      <td>-37</td>\n",
              "    </tr>\n",
              "    <tr>\n",
              "      <th>2</th>\n",
              "      <td>-139</td>\n",
              "      <td>-73</td>\n",
              "      <td>-1</td>\n",
              "      <td>283</td>\n",
              "      <td>-264</td>\n",
              "      <td>-400</td>\n",
              "      <td>-330</td>\n",
              "      <td>-168</td>\n",
              "      <td>101</td>\n",
              "      <td>74</td>\n",
              "      <td>...</td>\n",
              "      <td>169</td>\n",
              "      <td>837</td>\n",
              "      <td>-36</td>\n",
              "      <td>442</td>\n",
              "      <td>-17</td>\n",
              "      <td>782</td>\n",
              "      <td>295</td>\n",
              "      <td>11</td>\n",
              "      <td>76</td>\n",
              "      <td>-14</td>\n",
              "    </tr>\n",
              "    <tr>\n",
              "      <th>3</th>\n",
              "      <td>-76</td>\n",
              "      <td>-49</td>\n",
              "      <td>-307</td>\n",
              "      <td>309</td>\n",
              "      <td>-376</td>\n",
              "      <td>-650</td>\n",
              "      <td>33</td>\n",
              "      <td>-367</td>\n",
              "      <td>206</td>\n",
              "      <td>-215</td>\n",
              "      <td>...</td>\n",
              "      <td>315</td>\n",
              "      <td>1199</td>\n",
              "      <td>33</td>\n",
              "      <td>168</td>\n",
              "      <td>52</td>\n",
              "      <td>1138</td>\n",
              "      <td>777</td>\n",
              "      <td>41</td>\n",
              "      <td>228</td>\n",
              "      <td>-41</td>\n",
              "    </tr>\n",
              "    <tr>\n",
              "      <th>4</th>\n",
              "      <td>-135</td>\n",
              "      <td>-114</td>\n",
              "      <td>265</td>\n",
              "      <td>12</td>\n",
              "      <td>-419</td>\n",
              "      <td>-585</td>\n",
              "      <td>158</td>\n",
              "      <td>-253</td>\n",
              "      <td>49</td>\n",
              "      <td>31</td>\n",
              "      <td>...</td>\n",
              "      <td>240</td>\n",
              "      <td>835</td>\n",
              "      <td>218</td>\n",
              "      <td>174</td>\n",
              "      <td>-110</td>\n",
              "      <td>627</td>\n",
              "      <td>170</td>\n",
              "      <td>-50</td>\n",
              "      <td>126</td>\n",
              "      <td>-91</td>\n",
              "    </tr>\n",
              "    <tr>\n",
              "      <th>5</th>\n",
              "      <td>-106</td>\n",
              "      <td>-125</td>\n",
              "      <td>-76</td>\n",
              "      <td>168</td>\n",
              "      <td>-230</td>\n",
              "      <td>-284</td>\n",
              "      <td>4</td>\n",
              "      <td>-122</td>\n",
              "      <td>70</td>\n",
              "      <td>252</td>\n",
              "      <td>...</td>\n",
              "      <td>156</td>\n",
              "      <td>649</td>\n",
              "      <td>57</td>\n",
              "      <td>504</td>\n",
              "      <td>-26</td>\n",
              "      <td>250</td>\n",
              "      <td>314</td>\n",
              "      <td>14</td>\n",
              "      <td>56</td>\n",
              "      <td>-25</td>\n",
              "    </tr>\n",
              "  </tbody>\n",
              "</table>\n",
              "<p>5 rows × 7129 columns</p>\n",
              "</div>\n",
              "      <button class=\"colab-df-convert\" onclick=\"convertToInteractive('df-6f4bd0e7-8707-41b4-be9a-2640bda6c422')\"\n",
              "              title=\"Convert this dataframe to an interactive table.\"\n",
              "              style=\"display:none;\">\n",
              "        \n",
              "  <svg xmlns=\"http://www.w3.org/2000/svg\" height=\"24px\"viewBox=\"0 0 24 24\"\n",
              "       width=\"24px\">\n",
              "    <path d=\"M0 0h24v24H0V0z\" fill=\"none\"/>\n",
              "    <path d=\"M18.56 5.44l.94 2.06.94-2.06 2.06-.94-2.06-.94-.94-2.06-.94 2.06-2.06.94zm-11 1L8.5 8.5l.94-2.06 2.06-.94-2.06-.94L8.5 2.5l-.94 2.06-2.06.94zm10 10l.94 2.06.94-2.06 2.06-.94-2.06-.94-.94-2.06-.94 2.06-2.06.94z\"/><path d=\"M17.41 7.96l-1.37-1.37c-.4-.4-.92-.59-1.43-.59-.52 0-1.04.2-1.43.59L10.3 9.45l-7.72 7.72c-.78.78-.78 2.05 0 2.83L4 21.41c.39.39.9.59 1.41.59.51 0 1.02-.2 1.41-.59l7.78-7.78 2.81-2.81c.8-.78.8-2.07 0-2.86zM5.41 20L4 18.59l7.72-7.72 1.47 1.35L5.41 20z\"/>\n",
              "  </svg>\n",
              "      </button>\n",
              "      \n",
              "  <style>\n",
              "    .colab-df-container {\n",
              "      display:flex;\n",
              "      flex-wrap:wrap;\n",
              "      gap: 12px;\n",
              "    }\n",
              "\n",
              "    .colab-df-convert {\n",
              "      background-color: #E8F0FE;\n",
              "      border: none;\n",
              "      border-radius: 50%;\n",
              "      cursor: pointer;\n",
              "      display: none;\n",
              "      fill: #1967D2;\n",
              "      height: 32px;\n",
              "      padding: 0 0 0 0;\n",
              "      width: 32px;\n",
              "    }\n",
              "\n",
              "    .colab-df-convert:hover {\n",
              "      background-color: #E2EBFA;\n",
              "      box-shadow: 0px 1px 2px rgba(60, 64, 67, 0.3), 0px 1px 3px 1px rgba(60, 64, 67, 0.15);\n",
              "      fill: #174EA6;\n",
              "    }\n",
              "\n",
              "    [theme=dark] .colab-df-convert {\n",
              "      background-color: #3B4455;\n",
              "      fill: #D2E3FC;\n",
              "    }\n",
              "\n",
              "    [theme=dark] .colab-df-convert:hover {\n",
              "      background-color: #434B5C;\n",
              "      box-shadow: 0px 1px 3px 1px rgba(0, 0, 0, 0.15);\n",
              "      filter: drop-shadow(0px 1px 2px rgba(0, 0, 0, 0.3));\n",
              "      fill: #FFFFFF;\n",
              "    }\n",
              "  </style>\n",
              "\n",
              "      <script>\n",
              "        const buttonEl =\n",
              "          document.querySelector('#df-6f4bd0e7-8707-41b4-be9a-2640bda6c422 button.colab-df-convert');\n",
              "        buttonEl.style.display =\n",
              "          google.colab.kernel.accessAllowed ? 'block' : 'none';\n",
              "\n",
              "        async function convertToInteractive(key) {\n",
              "          const element = document.querySelector('#df-6f4bd0e7-8707-41b4-be9a-2640bda6c422');\n",
              "          const dataTable =\n",
              "            await google.colab.kernel.invokeFunction('convertToInteractive',\n",
              "                                                     [key], {});\n",
              "          if (!dataTable) return;\n",
              "\n",
              "          const docLinkHtml = 'Like what you see? Visit the ' +\n",
              "            '<a target=\"_blank\" href=https://colab.research.google.com/notebooks/data_table.ipynb>data table notebook</a>'\n",
              "            + ' to learn more about interactive tables.';\n",
              "          element.innerHTML = '';\n",
              "          dataTable['output_type'] = 'display_data';\n",
              "          await google.colab.output.renderOutput(dataTable, element);\n",
              "          const docLink = document.createElement('div');\n",
              "          docLink.innerHTML = docLinkHtml;\n",
              "          element.appendChild(docLink);\n",
              "        }\n",
              "      </script>\n",
              "    </div>\n",
              "  </div>\n",
              "  "
            ]
          },
          "metadata": {},
          "execution_count": 20
        }
      ],
      "source": [
        "#reviewing the dataset once again\n",
        "X_train.head()"
      ]
    },
    {
      "cell_type": "code",
      "execution_count": 21,
      "metadata": {
        "execution": {
          "iopub.execute_input": "2022-06-23T07:33:49.690095Z",
          "iopub.status.busy": "2022-06-23T07:33:49.688906Z",
          "iopub.status.idle": "2022-06-23T07:33:49.707842Z",
          "shell.execute_reply": "2022-06-23T07:33:49.707079Z",
          "shell.execute_reply.started": "2022-06-23T06:59:07.826102Z"
        },
        "papermill": {
          "duration": 0.074865,
          "end_time": "2022-06-23T07:33:49.707971",
          "exception": false,
          "start_time": "2022-06-23T07:33:49.633106",
          "status": "completed"
        },
        "tags": [],
        "id": "11NUhm9FoYeE"
      },
      "outputs": [],
      "source": [
        "#Sorting The index of the Transpose dataset to be in order of ascending ie smallest to largest\n",
        "X_train.index = X_train.index.astype(int)\n",
        "X_train.sort_index(inplace=True)\n",
        "\n",
        "X_test.index = X_test.index.astype(int)\n",
        "X_test.sort_index(inplace=True)"
      ]
    },
    {
      "cell_type": "code",
      "execution_count": 22,
      "metadata": {
        "execution": {
          "iopub.execute_input": "2022-06-23T07:33:49.810896Z",
          "iopub.status.busy": "2022-06-23T07:33:49.810002Z",
          "iopub.status.idle": "2022-06-23T07:33:49.815291Z",
          "shell.execute_reply": "2022-06-23T07:33:49.814571Z",
          "shell.execute_reply.started": "2022-06-23T06:59:08.913865Z"
        },
        "papermill": {
          "duration": 0.058662,
          "end_time": "2022-06-23T07:33:49.815420",
          "exception": false,
          "start_time": "2022-06-23T07:33:49.756758",
          "status": "completed"
        },
        "tags": [],
        "colab": {
          "base_uri": "https://localhost:8080/"
        },
        "id": "WR_ejnwioYeG",
        "outputId": "9d919f6e-2b37-457e-fb85-590c8a52578c"
      },
      "outputs": [
        {
          "output_type": "stream",
          "name": "stdout",
          "text": [
            "Shape of Training data:\t (38, 7129)\n",
            "Shape of Testing Data:\t (34, 7129)\n"
          ]
        }
      ],
      "source": [
        "print(\"Shape of Training data:\\t\", X_train.shape)\n",
        "print(\"Shape of Testing Data:\\t\", X_test.shape)"
      ]
    },
    {
      "cell_type": "markdown",
      "metadata": {
        "papermill": {
          "duration": 0.048061,
          "end_time": "2022-06-23T07:33:49.911338",
          "exception": false,
          "start_time": "2022-06-23T07:33:49.863277",
          "status": "completed"
        },
        "tags": [],
        "id": "OiEcYwIIoYeI"
      },
      "source": [
        "<b>After transposing and resorting the data  we now have 38 rows in train and 34 rows in test  as oppose to the initial 7129 </b>"
      ]
    },
    {
      "cell_type": "code",
      "execution_count": 23,
      "metadata": {
        "execution": {
          "iopub.execute_input": "2022-06-23T07:33:50.023579Z",
          "iopub.status.busy": "2022-06-23T07:33:50.013177Z",
          "iopub.status.idle": "2022-06-23T07:33:50.038258Z",
          "shell.execute_reply": "2022-06-23T07:33:50.038834Z",
          "shell.execute_reply.started": "2022-06-23T06:59:09.691115Z"
        },
        "papermill": {
          "duration": 0.079975,
          "end_time": "2022-06-23T07:33:50.038994",
          "exception": false,
          "start_time": "2022-06-23T07:33:49.959019",
          "status": "completed"
        },
        "tags": [],
        "colab": {
          "base_uri": "https://localhost:8080/",
          "height": 299
        },
        "id": "GgKzKYn0oYeJ",
        "outputId": "6e904cfc-014e-4463-ae74-23937fbfe0ef"
      },
      "outputs": [
        {
          "output_type": "execute_result",
          "data": {
            "text/plain": [
              "   0     1     2    3     4     5     6     7    8     9     ... 7119  7120  \\\n",
              "1  -214  -153   -58   88  -295  -558   199  -176  252   206  ...  185   511   \n",
              "2  -139   -73    -1  283  -264  -400  -330  -168  101    74  ...  169   837   \n",
              "3   -76   -49  -307  309  -376  -650    33  -367  206  -215  ...  315  1199   \n",
              "4  -135  -114   265   12  -419  -585   158  -253   49    31  ...  240   835   \n",
              "5  -106  -125   -76  168  -230  -284     4  -122   70   252  ...  156   649   \n",
              "\n",
              "   7121 7122  7123  7124 7125 7126 7127 7128  \n",
              "1  -125  389   -37   793  329   36  191  -37  \n",
              "2   -36  442   -17   782  295   11   76  -14  \n",
              "3    33  168    52  1138  777   41  228  -41  \n",
              "4   218  174  -110   627  170  -50  126  -91  \n",
              "5    57  504   -26   250  314   14   56  -25  \n",
              "\n",
              "[5 rows x 7129 columns]"
            ],
            "text/html": [
              "\n",
              "  <div id=\"df-ac187e9f-7a3e-4f45-8bb9-a17664b937c7\">\n",
              "    <div class=\"colab-df-container\">\n",
              "      <div>\n",
              "<style scoped>\n",
              "    .dataframe tbody tr th:only-of-type {\n",
              "        vertical-align: middle;\n",
              "    }\n",
              "\n",
              "    .dataframe tbody tr th {\n",
              "        vertical-align: top;\n",
              "    }\n",
              "\n",
              "    .dataframe thead th {\n",
              "        text-align: right;\n",
              "    }\n",
              "</style>\n",
              "<table border=\"1\" class=\"dataframe\">\n",
              "  <thead>\n",
              "    <tr style=\"text-align: right;\">\n",
              "      <th></th>\n",
              "      <th>0</th>\n",
              "      <th>1</th>\n",
              "      <th>2</th>\n",
              "      <th>3</th>\n",
              "      <th>4</th>\n",
              "      <th>5</th>\n",
              "      <th>6</th>\n",
              "      <th>7</th>\n",
              "      <th>8</th>\n",
              "      <th>9</th>\n",
              "      <th>...</th>\n",
              "      <th>7119</th>\n",
              "      <th>7120</th>\n",
              "      <th>7121</th>\n",
              "      <th>7122</th>\n",
              "      <th>7123</th>\n",
              "      <th>7124</th>\n",
              "      <th>7125</th>\n",
              "      <th>7126</th>\n",
              "      <th>7127</th>\n",
              "      <th>7128</th>\n",
              "    </tr>\n",
              "  </thead>\n",
              "  <tbody>\n",
              "    <tr>\n",
              "      <th>1</th>\n",
              "      <td>-214</td>\n",
              "      <td>-153</td>\n",
              "      <td>-58</td>\n",
              "      <td>88</td>\n",
              "      <td>-295</td>\n",
              "      <td>-558</td>\n",
              "      <td>199</td>\n",
              "      <td>-176</td>\n",
              "      <td>252</td>\n",
              "      <td>206</td>\n",
              "      <td>...</td>\n",
              "      <td>185</td>\n",
              "      <td>511</td>\n",
              "      <td>-125</td>\n",
              "      <td>389</td>\n",
              "      <td>-37</td>\n",
              "      <td>793</td>\n",
              "      <td>329</td>\n",
              "      <td>36</td>\n",
              "      <td>191</td>\n",
              "      <td>-37</td>\n",
              "    </tr>\n",
              "    <tr>\n",
              "      <th>2</th>\n",
              "      <td>-139</td>\n",
              "      <td>-73</td>\n",
              "      <td>-1</td>\n",
              "      <td>283</td>\n",
              "      <td>-264</td>\n",
              "      <td>-400</td>\n",
              "      <td>-330</td>\n",
              "      <td>-168</td>\n",
              "      <td>101</td>\n",
              "      <td>74</td>\n",
              "      <td>...</td>\n",
              "      <td>169</td>\n",
              "      <td>837</td>\n",
              "      <td>-36</td>\n",
              "      <td>442</td>\n",
              "      <td>-17</td>\n",
              "      <td>782</td>\n",
              "      <td>295</td>\n",
              "      <td>11</td>\n",
              "      <td>76</td>\n",
              "      <td>-14</td>\n",
              "    </tr>\n",
              "    <tr>\n",
              "      <th>3</th>\n",
              "      <td>-76</td>\n",
              "      <td>-49</td>\n",
              "      <td>-307</td>\n",
              "      <td>309</td>\n",
              "      <td>-376</td>\n",
              "      <td>-650</td>\n",
              "      <td>33</td>\n",
              "      <td>-367</td>\n",
              "      <td>206</td>\n",
              "      <td>-215</td>\n",
              "      <td>...</td>\n",
              "      <td>315</td>\n",
              "      <td>1199</td>\n",
              "      <td>33</td>\n",
              "      <td>168</td>\n",
              "      <td>52</td>\n",
              "      <td>1138</td>\n",
              "      <td>777</td>\n",
              "      <td>41</td>\n",
              "      <td>228</td>\n",
              "      <td>-41</td>\n",
              "    </tr>\n",
              "    <tr>\n",
              "      <th>4</th>\n",
              "      <td>-135</td>\n",
              "      <td>-114</td>\n",
              "      <td>265</td>\n",
              "      <td>12</td>\n",
              "      <td>-419</td>\n",
              "      <td>-585</td>\n",
              "      <td>158</td>\n",
              "      <td>-253</td>\n",
              "      <td>49</td>\n",
              "      <td>31</td>\n",
              "      <td>...</td>\n",
              "      <td>240</td>\n",
              "      <td>835</td>\n",
              "      <td>218</td>\n",
              "      <td>174</td>\n",
              "      <td>-110</td>\n",
              "      <td>627</td>\n",
              "      <td>170</td>\n",
              "      <td>-50</td>\n",
              "      <td>126</td>\n",
              "      <td>-91</td>\n",
              "    </tr>\n",
              "    <tr>\n",
              "      <th>5</th>\n",
              "      <td>-106</td>\n",
              "      <td>-125</td>\n",
              "      <td>-76</td>\n",
              "      <td>168</td>\n",
              "      <td>-230</td>\n",
              "      <td>-284</td>\n",
              "      <td>4</td>\n",
              "      <td>-122</td>\n",
              "      <td>70</td>\n",
              "      <td>252</td>\n",
              "      <td>...</td>\n",
              "      <td>156</td>\n",
              "      <td>649</td>\n",
              "      <td>57</td>\n",
              "      <td>504</td>\n",
              "      <td>-26</td>\n",
              "      <td>250</td>\n",
              "      <td>314</td>\n",
              "      <td>14</td>\n",
              "      <td>56</td>\n",
              "      <td>-25</td>\n",
              "    </tr>\n",
              "  </tbody>\n",
              "</table>\n",
              "<p>5 rows × 7129 columns</p>\n",
              "</div>\n",
              "      <button class=\"colab-df-convert\" onclick=\"convertToInteractive('df-ac187e9f-7a3e-4f45-8bb9-a17664b937c7')\"\n",
              "              title=\"Convert this dataframe to an interactive table.\"\n",
              "              style=\"display:none;\">\n",
              "        \n",
              "  <svg xmlns=\"http://www.w3.org/2000/svg\" height=\"24px\"viewBox=\"0 0 24 24\"\n",
              "       width=\"24px\">\n",
              "    <path d=\"M0 0h24v24H0V0z\" fill=\"none\"/>\n",
              "    <path d=\"M18.56 5.44l.94 2.06.94-2.06 2.06-.94-2.06-.94-.94-2.06-.94 2.06-2.06.94zm-11 1L8.5 8.5l.94-2.06 2.06-.94-2.06-.94L8.5 2.5l-.94 2.06-2.06.94zm10 10l.94 2.06.94-2.06 2.06-.94-2.06-.94-.94-2.06-.94 2.06-2.06.94z\"/><path d=\"M17.41 7.96l-1.37-1.37c-.4-.4-.92-.59-1.43-.59-.52 0-1.04.2-1.43.59L10.3 9.45l-7.72 7.72c-.78.78-.78 2.05 0 2.83L4 21.41c.39.39.9.59 1.41.59.51 0 1.02-.2 1.41-.59l7.78-7.78 2.81-2.81c.8-.78.8-2.07 0-2.86zM5.41 20L4 18.59l7.72-7.72 1.47 1.35L5.41 20z\"/>\n",
              "  </svg>\n",
              "      </button>\n",
              "      \n",
              "  <style>\n",
              "    .colab-df-container {\n",
              "      display:flex;\n",
              "      flex-wrap:wrap;\n",
              "      gap: 12px;\n",
              "    }\n",
              "\n",
              "    .colab-df-convert {\n",
              "      background-color: #E8F0FE;\n",
              "      border: none;\n",
              "      border-radius: 50%;\n",
              "      cursor: pointer;\n",
              "      display: none;\n",
              "      fill: #1967D2;\n",
              "      height: 32px;\n",
              "      padding: 0 0 0 0;\n",
              "      width: 32px;\n",
              "    }\n",
              "\n",
              "    .colab-df-convert:hover {\n",
              "      background-color: #E2EBFA;\n",
              "      box-shadow: 0px 1px 2px rgba(60, 64, 67, 0.3), 0px 1px 3px 1px rgba(60, 64, 67, 0.15);\n",
              "      fill: #174EA6;\n",
              "    }\n",
              "\n",
              "    [theme=dark] .colab-df-convert {\n",
              "      background-color: #3B4455;\n",
              "      fill: #D2E3FC;\n",
              "    }\n",
              "\n",
              "    [theme=dark] .colab-df-convert:hover {\n",
              "      background-color: #434B5C;\n",
              "      box-shadow: 0px 1px 3px 1px rgba(0, 0, 0, 0.15);\n",
              "      filter: drop-shadow(0px 1px 2px rgba(0, 0, 0, 0.3));\n",
              "      fill: #FFFFFF;\n",
              "    }\n",
              "  </style>\n",
              "\n",
              "      <script>\n",
              "        const buttonEl =\n",
              "          document.querySelector('#df-ac187e9f-7a3e-4f45-8bb9-a17664b937c7 button.colab-df-convert');\n",
              "        buttonEl.style.display =\n",
              "          google.colab.kernel.accessAllowed ? 'block' : 'none';\n",
              "\n",
              "        async function convertToInteractive(key) {\n",
              "          const element = document.querySelector('#df-ac187e9f-7a3e-4f45-8bb9-a17664b937c7');\n",
              "          const dataTable =\n",
              "            await google.colab.kernel.invokeFunction('convertToInteractive',\n",
              "                                                     [key], {});\n",
              "          if (!dataTable) return;\n",
              "\n",
              "          const docLinkHtml = 'Like what you see? Visit the ' +\n",
              "            '<a target=\"_blank\" href=https://colab.research.google.com/notebooks/data_table.ipynb>data table notebook</a>'\n",
              "            + ' to learn more about interactive tables.';\n",
              "          element.innerHTML = '';\n",
              "          dataTable['output_type'] = 'display_data';\n",
              "          await google.colab.output.renderOutput(dataTable, element);\n",
              "          const docLink = document.createElement('div');\n",
              "          docLink.innerHTML = docLinkHtml;\n",
              "          element.appendChild(docLink);\n",
              "        }\n",
              "      </script>\n",
              "    </div>\n",
              "  </div>\n",
              "  "
            ]
          },
          "metadata": {},
          "execution_count": 23
        }
      ],
      "source": [
        "X_train.head()"
      ]
    },
    {
      "cell_type": "markdown",
      "metadata": {
        "papermill": {
          "duration": 0.048085,
          "end_time": "2022-06-23T07:33:50.135837",
          "exception": false,
          "start_time": "2022-06-23T07:33:50.087752",
          "status": "completed"
        },
        "tags": [],
        "id": "Rdm_hc-WoYeL"
      },
      "source": [
        "Now let's split the target labels into training and testing targets."
      ]
    },
    {
      "cell_type": "code",
      "execution_count": 24,
      "metadata": {
        "execution": {
          "iopub.execute_input": "2022-06-23T07:33:50.236469Z",
          "iopub.status.busy": "2022-06-23T07:33:50.235762Z",
          "iopub.status.idle": "2022-06-23T07:33:50.240818Z",
          "shell.execute_reply": "2022-06-23T07:33:50.241451Z",
          "shell.execute_reply.started": "2022-06-23T06:59:10.714572Z"
        },
        "papermill": {
          "duration": 0.057532,
          "end_time": "2022-06-23T07:33:50.241620",
          "exception": false,
          "start_time": "2022-06-23T07:33:50.184088",
          "status": "completed"
        },
        "tags": [],
        "id": "Xl9vqtgDoYeM"
      },
      "outputs": [],
      "source": [
        "#we define the label also taking 38 rows to follow suit with  our number of X_train and X_test \n",
        "y_train = y['cancer'][:38]\n",
        "y_test = y['cancer'][38:]\n",
        "\n",
        "#y_train will consist of the first 38 rows the dataset and the y_test will consist of rows from the 38 row down to the last"
      ]
    },
    {
      "cell_type": "markdown",
      "metadata": {
        "papermill": {
          "duration": 0.04788,
          "end_time": "2022-06-23T07:33:50.337814",
          "exception": false,
          "start_time": "2022-06-23T07:33:50.289934",
          "status": "completed"
        },
        "tags": [],
        "id": "jNx1cxNHoYeO"
      },
      "source": [
        "### Scaling Feautures \n",
        "# Model Algorithm works well when the data to be feed into are scaled \n",
        "1. cause it makes it easier for machine learning models to learn and understand problems\n",
        "# For this problem we will be using the StandardScaler sd=(x - mean(x))/ standardDeviation it literarilly converts all\n",
        "# The basic concept behind the standardization function is to make data points centred about the mean of all the data points presented in a feature with a unit standard deviation. This means the mean of the data point will be zero and the standard deviation will be 1."
      ]
    },
    {
      "cell_type": "markdown",
      "metadata": {
        "papermill": {
          "duration": 0.04839,
          "end_time": "2022-06-23T07:33:50.434581",
          "exception": false,
          "start_time": "2022-06-23T07:33:50.386191",
          "status": "completed"
        },
        "tags": [],
        "id": "xLpSgEr1oYeP"
      },
      "source": [
        "Note that the test set must use identical scaling to the training set."
      ]
    },
    {
      "cell_type": "code",
      "execution_count": 25,
      "metadata": {
        "execution": {
          "iopub.execute_input": "2022-06-23T07:33:50.535221Z",
          "iopub.status.busy": "2022-06-23T07:33:50.534521Z",
          "iopub.status.idle": "2022-06-23T07:34:03.539060Z",
          "shell.execute_reply": "2022-06-23T07:34:03.538019Z",
          "shell.execute_reply.started": "2022-06-23T06:59:12.042078Z"
        },
        "papermill": {
          "duration": 13.056495,
          "end_time": "2022-06-23T07:34:03.539291",
          "exception": false,
          "start_time": "2022-06-23T07:33:50.482796",
          "status": "completed"
        },
        "tags": [],
        "colab": {
          "base_uri": "https://localhost:8080/",
          "height": 268
        },
        "id": "ni6eAntvoYeQ",
        "outputId": "7de723c5-723a-49d0-e3e0-331b8e5a2430"
      },
      "outputs": [
        {
          "output_type": "execute_result",
          "data": {
            "text/plain": [
              "        0     1     2     3     4     5     6     7     8     9     ...  7119  \\\n",
              "count     38    38    38    38    38    38    38    38    38    38  ...    38   \n",
              "unique    35    35    35    37    38    36    37    38    34    36  ...    33   \n",
              "top      -81  -150    -1   132  -295  -558   -31  -176    34   350  ...   185   \n",
              "freq       2     2     2     2     1     2     2     1     2     2  ...     2   \n",
              "\n",
              "        7120  7121  7122  7123  7124  7125  7126  7127  7128  \n",
              "count     38    38    38    38    38    38    38    38    38  \n",
              "unique    38    36    38    36    38    37    31    36    36  \n",
              "top      511    57   389   -22   793   295     9   116   -41  \n",
              "freq       1     3     1     2     1     2     2     2     2  \n",
              "\n",
              "[4 rows x 7129 columns]"
            ],
            "text/html": [
              "\n",
              "  <div id=\"df-97341055-c26f-4821-a3e3-1a8bab539d67\">\n",
              "    <div class=\"colab-df-container\">\n",
              "      <div>\n",
              "<style scoped>\n",
              "    .dataframe tbody tr th:only-of-type {\n",
              "        vertical-align: middle;\n",
              "    }\n",
              "\n",
              "    .dataframe tbody tr th {\n",
              "        vertical-align: top;\n",
              "    }\n",
              "\n",
              "    .dataframe thead th {\n",
              "        text-align: right;\n",
              "    }\n",
              "</style>\n",
              "<table border=\"1\" class=\"dataframe\">\n",
              "  <thead>\n",
              "    <tr style=\"text-align: right;\">\n",
              "      <th></th>\n",
              "      <th>0</th>\n",
              "      <th>1</th>\n",
              "      <th>2</th>\n",
              "      <th>3</th>\n",
              "      <th>4</th>\n",
              "      <th>5</th>\n",
              "      <th>6</th>\n",
              "      <th>7</th>\n",
              "      <th>8</th>\n",
              "      <th>9</th>\n",
              "      <th>...</th>\n",
              "      <th>7119</th>\n",
              "      <th>7120</th>\n",
              "      <th>7121</th>\n",
              "      <th>7122</th>\n",
              "      <th>7123</th>\n",
              "      <th>7124</th>\n",
              "      <th>7125</th>\n",
              "      <th>7126</th>\n",
              "      <th>7127</th>\n",
              "      <th>7128</th>\n",
              "    </tr>\n",
              "  </thead>\n",
              "  <tbody>\n",
              "    <tr>\n",
              "      <th>count</th>\n",
              "      <td>38</td>\n",
              "      <td>38</td>\n",
              "      <td>38</td>\n",
              "      <td>38</td>\n",
              "      <td>38</td>\n",
              "      <td>38</td>\n",
              "      <td>38</td>\n",
              "      <td>38</td>\n",
              "      <td>38</td>\n",
              "      <td>38</td>\n",
              "      <td>...</td>\n",
              "      <td>38</td>\n",
              "      <td>38</td>\n",
              "      <td>38</td>\n",
              "      <td>38</td>\n",
              "      <td>38</td>\n",
              "      <td>38</td>\n",
              "      <td>38</td>\n",
              "      <td>38</td>\n",
              "      <td>38</td>\n",
              "      <td>38</td>\n",
              "    </tr>\n",
              "    <tr>\n",
              "      <th>unique</th>\n",
              "      <td>35</td>\n",
              "      <td>35</td>\n",
              "      <td>35</td>\n",
              "      <td>37</td>\n",
              "      <td>38</td>\n",
              "      <td>36</td>\n",
              "      <td>37</td>\n",
              "      <td>38</td>\n",
              "      <td>34</td>\n",
              "      <td>36</td>\n",
              "      <td>...</td>\n",
              "      <td>33</td>\n",
              "      <td>38</td>\n",
              "      <td>36</td>\n",
              "      <td>38</td>\n",
              "      <td>36</td>\n",
              "      <td>38</td>\n",
              "      <td>37</td>\n",
              "      <td>31</td>\n",
              "      <td>36</td>\n",
              "      <td>36</td>\n",
              "    </tr>\n",
              "    <tr>\n",
              "      <th>top</th>\n",
              "      <td>-81</td>\n",
              "      <td>-150</td>\n",
              "      <td>-1</td>\n",
              "      <td>132</td>\n",
              "      <td>-295</td>\n",
              "      <td>-558</td>\n",
              "      <td>-31</td>\n",
              "      <td>-176</td>\n",
              "      <td>34</td>\n",
              "      <td>350</td>\n",
              "      <td>...</td>\n",
              "      <td>185</td>\n",
              "      <td>511</td>\n",
              "      <td>57</td>\n",
              "      <td>389</td>\n",
              "      <td>-22</td>\n",
              "      <td>793</td>\n",
              "      <td>295</td>\n",
              "      <td>9</td>\n",
              "      <td>116</td>\n",
              "      <td>-41</td>\n",
              "    </tr>\n",
              "    <tr>\n",
              "      <th>freq</th>\n",
              "      <td>2</td>\n",
              "      <td>2</td>\n",
              "      <td>2</td>\n",
              "      <td>2</td>\n",
              "      <td>1</td>\n",
              "      <td>2</td>\n",
              "      <td>2</td>\n",
              "      <td>1</td>\n",
              "      <td>2</td>\n",
              "      <td>2</td>\n",
              "      <td>...</td>\n",
              "      <td>2</td>\n",
              "      <td>1</td>\n",
              "      <td>3</td>\n",
              "      <td>1</td>\n",
              "      <td>2</td>\n",
              "      <td>1</td>\n",
              "      <td>2</td>\n",
              "      <td>2</td>\n",
              "      <td>2</td>\n",
              "      <td>2</td>\n",
              "    </tr>\n",
              "  </tbody>\n",
              "</table>\n",
              "<p>4 rows × 7129 columns</p>\n",
              "</div>\n",
              "      <button class=\"colab-df-convert\" onclick=\"convertToInteractive('df-97341055-c26f-4821-a3e3-1a8bab539d67')\"\n",
              "              title=\"Convert this dataframe to an interactive table.\"\n",
              "              style=\"display:none;\">\n",
              "        \n",
              "  <svg xmlns=\"http://www.w3.org/2000/svg\" height=\"24px\"viewBox=\"0 0 24 24\"\n",
              "       width=\"24px\">\n",
              "    <path d=\"M0 0h24v24H0V0z\" fill=\"none\"/>\n",
              "    <path d=\"M18.56 5.44l.94 2.06.94-2.06 2.06-.94-2.06-.94-.94-2.06-.94 2.06-2.06.94zm-11 1L8.5 8.5l.94-2.06 2.06-.94-2.06-.94L8.5 2.5l-.94 2.06-2.06.94zm10 10l.94 2.06.94-2.06 2.06-.94-2.06-.94-.94-2.06-.94 2.06-2.06.94z\"/><path d=\"M17.41 7.96l-1.37-1.37c-.4-.4-.92-.59-1.43-.59-.52 0-1.04.2-1.43.59L10.3 9.45l-7.72 7.72c-.78.78-.78 2.05 0 2.83L4 21.41c.39.39.9.59 1.41.59.51 0 1.02-.2 1.41-.59l7.78-7.78 2.81-2.81c.8-.78.8-2.07 0-2.86zM5.41 20L4 18.59l7.72-7.72 1.47 1.35L5.41 20z\"/>\n",
              "  </svg>\n",
              "      </button>\n",
              "      \n",
              "  <style>\n",
              "    .colab-df-container {\n",
              "      display:flex;\n",
              "      flex-wrap:wrap;\n",
              "      gap: 12px;\n",
              "    }\n",
              "\n",
              "    .colab-df-convert {\n",
              "      background-color: #E8F0FE;\n",
              "      border: none;\n",
              "      border-radius: 50%;\n",
              "      cursor: pointer;\n",
              "      display: none;\n",
              "      fill: #1967D2;\n",
              "      height: 32px;\n",
              "      padding: 0 0 0 0;\n",
              "      width: 32px;\n",
              "    }\n",
              "\n",
              "    .colab-df-convert:hover {\n",
              "      background-color: #E2EBFA;\n",
              "      box-shadow: 0px 1px 2px rgba(60, 64, 67, 0.3), 0px 1px 3px 1px rgba(60, 64, 67, 0.15);\n",
              "      fill: #174EA6;\n",
              "    }\n",
              "\n",
              "    [theme=dark] .colab-df-convert {\n",
              "      background-color: #3B4455;\n",
              "      fill: #D2E3FC;\n",
              "    }\n",
              "\n",
              "    [theme=dark] .colab-df-convert:hover {\n",
              "      background-color: #434B5C;\n",
              "      box-shadow: 0px 1px 3px 1px rgba(0, 0, 0, 0.15);\n",
              "      filter: drop-shadow(0px 1px 2px rgba(0, 0, 0, 0.3));\n",
              "      fill: #FFFFFF;\n",
              "    }\n",
              "  </style>\n",
              "\n",
              "      <script>\n",
              "        const buttonEl =\n",
              "          document.querySelector('#df-97341055-c26f-4821-a3e3-1a8bab539d67 button.colab-df-convert');\n",
              "        buttonEl.style.display =\n",
              "          google.colab.kernel.accessAllowed ? 'block' : 'none';\n",
              "\n",
              "        async function convertToInteractive(key) {\n",
              "          const element = document.querySelector('#df-97341055-c26f-4821-a3e3-1a8bab539d67');\n",
              "          const dataTable =\n",
              "            await google.colab.kernel.invokeFunction('convertToInteractive',\n",
              "                                                     [key], {});\n",
              "          if (!dataTable) return;\n",
              "\n",
              "          const docLinkHtml = 'Like what you see? Visit the ' +\n",
              "            '<a target=\"_blank\" href=https://colab.research.google.com/notebooks/data_table.ipynb>data table notebook</a>'\n",
              "            + ' to learn more about interactive tables.';\n",
              "          element.innerHTML = '';\n",
              "          dataTable['output_type'] = 'display_data';\n",
              "          await google.colab.output.renderOutput(dataTable, element);\n",
              "          const docLink = document.createElement('div');\n",
              "          docLink.innerHTML = docLinkHtml;\n",
              "          element.appendChild(docLink);\n",
              "        }\n",
              "      </script>\n",
              "    </div>\n",
              "  </div>\n",
              "  "
            ]
          },
          "metadata": {},
          "execution_count": 25
        }
      ],
      "source": [
        "X_train.describe()"
      ]
    },
    {
      "cell_type": "code",
      "execution_count": 26,
      "metadata": {
        "execution": {
          "iopub.execute_input": "2022-06-23T07:34:03.670650Z",
          "iopub.status.busy": "2022-06-23T07:34:03.669846Z",
          "iopub.status.idle": "2022-06-23T07:34:03.891848Z",
          "shell.execute_reply": "2022-06-23T07:34:03.892406Z",
          "shell.execute_reply.started": "2022-06-23T06:59:23.638814Z"
        },
        "papermill": {
          "duration": 0.292708,
          "end_time": "2022-06-23T07:34:03.892774",
          "exception": false,
          "start_time": "2022-06-23T07:34:03.600066",
          "status": "completed"
        },
        "tags": [],
        "id": "VpguvcrhoYeT"
      },
      "outputs": [],
      "source": [
        "scaler = StandardScaler()\n",
        "X_train_scaled = scaler.fit_transform(X_train)\n",
        "X_test_scaled = scaler.transform(X_test)"
      ]
    },
    {
      "cell_type": "code",
      "execution_count": 27,
      "metadata": {
        "execution": {
          "iopub.execute_input": "2022-06-23T07:34:04.004915Z",
          "iopub.status.busy": "2022-06-23T07:34:04.004084Z",
          "iopub.status.idle": "2022-06-23T07:34:04.809650Z",
          "shell.execute_reply": "2022-06-23T07:34:04.808826Z",
          "shell.execute_reply.started": "2022-06-23T06:59:23.780310Z"
        },
        "papermill": {
          "duration": 0.86286,
          "end_time": "2022-06-23T07:34:04.809776",
          "exception": false,
          "start_time": "2022-06-23T07:34:03.946916",
          "status": "completed"
        },
        "tags": [],
        "colab": {
          "base_uri": "https://localhost:8080/",
          "height": 398
        },
        "id": "U-yyF72MoYeU",
        "outputId": "599351bb-d534-42e0-b5f5-68b9d2b52789"
      },
      "outputs": [
        {
          "output_type": "stream",
          "name": "stderr",
          "text": [
            "/usr/local/lib/python3.7/dist-packages/seaborn/distributions.py:2619: FutureWarning: `distplot` is a deprecated function and will be removed in a future version. Please adapt your code to use either `displot` (a figure-level function with similar flexibility) or `histplot` (an axes-level function for histograms).\n",
            "  warnings.warn(msg, FutureWarning)\n",
            "/usr/local/lib/python3.7/dist-packages/seaborn/distributions.py:2619: FutureWarning: `distplot` is a deprecated function and will be removed in a future version. Please adapt your code to use either `displot` (a figure-level function with similar flexibility) or `histplot` (an axes-level function for histograms).\n",
            "  warnings.warn(msg, FutureWarning)\n"
          ]
        },
        {
          "output_type": "display_data",
          "data": {
            "text/plain": [
              "<Figure size 1080x360 with 2 Axes>"
            ],
            "image/png": "[encoded data removed]"
          },
          "metadata": {
            "needs_background": "light"
          }
        }
      ],
      "source": [
        "#lets do a distplot to check for skewness \n",
        "fig, ax = plt.subplots(ncols=2, figsize=(15,5))\n",
        "sns.distplot(np.concatenate(X_train.values), ax=ax[0]).set_title('Original Data')\n",
        "sns.distplot(np.concatenate(X_train_scaled), ax=ax[1]).set_title('Scaled Data')\n",
        "plt.tight_layout\n",
        "plt.show()"
      ]
    },
    {
      "cell_type": "markdown",
      "metadata": {
        "papermill": {
          "duration": 0.052887,
          "end_time": "2022-06-23T07:34:04.915360",
          "exception": false,
          "start_time": "2022-06-23T07:34:04.862473",
          "status": "completed"
        },
        "tags": [],
        "id": "B2x2Q5nBoYeW"
      },
      "source": [
        "<b> our distribution plots shows no skewness one good use of standardization</b>"
      ]
    },
    {
      "cell_type": "markdown",
      "metadata": {
        "papermill": {
          "duration": 0.054941,
          "end_time": "2022-06-23T07:34:05.025851",
          "exception": false,
          "start_time": "2022-06-23T07:34:04.970910",
          "status": "completed"
        },
        "tags": [],
        "id": "UC14obKAoYeX"
      },
      "source": [
        "## Dimentionality reduction(PCA)"
      ]
    },
    {
      "cell_type": "markdown",
      "metadata": {
        "papermill": {
          "duration": 0.055546,
          "end_time": "2022-06-23T07:34:05.136992",
          "exception": false,
          "start_time": "2022-06-23T07:34:05.081446",
          "status": "completed"
        },
        "tags": [],
        "id": "Fa9_isRqoYeZ"
      },
      "source": [
        "You need to apply the same PCA on training and testing sets. \n",
        "PCA to reduce the number of columns to a reasonable amount from the 7129 "
      ]
    },
    {
      "cell_type": "code",
      "execution_count": 28,
      "metadata": {
        "execution": {
          "iopub.execute_input": "2022-06-23T07:34:05.255116Z",
          "iopub.status.busy": "2022-06-23T07:34:05.253847Z",
          "iopub.status.idle": "2022-06-23T07:34:05.338017Z",
          "shell.execute_reply": "2022-06-23T07:34:05.339044Z",
          "shell.execute_reply.started": "2022-06-23T06:59:24.453252Z"
        },
        "papermill": {
          "duration": 0.146943,
          "end_time": "2022-06-23T07:34:05.339244",
          "exception": false,
          "start_time": "2022-06-23T07:34:05.192301",
          "status": "completed"
        },
        "tags": [],
        "colab": {
          "base_uri": "https://localhost:8080/"
        },
        "id": "6W6c0uFuoYea",
        "outputId": "d585b69a-efe7-4c28-a850-61ef8bb00af7"
      },
      "outputs": [
        {
          "output_type": "stream",
          "name": "stdout",
          "text": [
            "(38, 32)\n",
            "(34, 32)\n"
          ]
        }
      ],
      "source": [
        "pca = PCA(n_components = 0.95)\n",
        "X_train_pca = pca.fit_transform(X_train_scaled)\n",
        "X_test_pca = pca.transform(X_test_scaled)\n",
        "print(X_train_pca.shape)\n",
        "print(X_test_pca.shape)"
      ]
    },
    {
      "cell_type": "code",
      "execution_count": 29,
      "metadata": {
        "execution": {
          "iopub.execute_input": "2022-06-23T07:34:05.460488Z",
          "iopub.status.busy": "2022-06-23T07:34:05.459427Z",
          "iopub.status.idle": "2022-06-23T07:34:05.467174Z",
          "shell.execute_reply": "2022-06-23T07:34:05.468269Z",
          "shell.execute_reply.started": "2022-06-23T06:59:24.482016Z"
        },
        "papermill": {
          "duration": 0.073642,
          "end_time": "2022-06-23T07:34:05.468613",
          "exception": false,
          "start_time": "2022-06-23T07:34:05.394971",
          "status": "completed"
        },
        "tags": [],
        "colab": {
          "base_uri": "https://localhost:8080/"
        },
        "id": "ylYLeYdZoYed",
        "outputId": "f1936ec7-b0eb-4112-fd0c-fa6520d7e37d"
      },
      "outputs": [
        {
          "output_type": "execute_result",
          "data": {
            "text/plain": [
              "array([0.14987793, 0.26965604, 0.33566172, 0.38451094, 0.43083509,\n",
              "       0.46805475, 0.50296448, 0.53586132, 0.56571468, 0.5921679 ,\n",
              "       0.61726347, 0.64084201, 0.66289529, 0.68377393, 0.70319176,\n",
              "       0.72212583, 0.7405972 , 0.7577301 , 0.77478241, 0.79122998,\n",
              "       0.80658588, 0.82187356, 0.8364345 , 0.85074541, 0.86489756,\n",
              "       0.87868324, 0.8921573 , 0.90521603, 0.9182476 , 0.93073848,\n",
              "       0.9423376 , 0.95350569])"
            ]
          },
          "metadata": {},
          "execution_count": 29
        }
      ],
      "source": [
        "pca.explained_variance_ratio_.cumsum()"
      ]
    },
    {
      "cell_type": "markdown",
      "metadata": {
        "papermill": {
          "duration": 0.063234,
          "end_time": "2022-06-23T07:34:05.606032",
          "exception": false,
          "start_time": "2022-06-23T07:34:05.542798",
          "status": "completed"
        },
        "tags": [],
        "id": "l5WLQuAxoYef"
      },
      "source": [
        "our dimension was reduce to 32 from the 7129 we got after the applying dimensionality reduction method cause out of all the features the first 32 columns gives the cummulative sum of 95"
      ]
    },
    {
      "cell_type": "code",
      "execution_count": 30,
      "metadata": {
        "execution": {
          "iopub.execute_input": "2022-06-23T07:34:05.753692Z",
          "iopub.status.busy": "2022-06-23T07:34:05.752604Z",
          "iopub.status.idle": "2022-06-23T07:34:05.929864Z",
          "shell.execute_reply": "2022-06-23T07:34:05.930476Z",
          "shell.execute_reply.started": "2022-06-23T06:59:24.491770Z"
        },
        "papermill": {
          "duration": 0.242939,
          "end_time": "2022-06-23T07:34:05.930636",
          "exception": false,
          "start_time": "2022-06-23T07:34:05.687697",
          "status": "completed"
        },
        "tags": [],
        "colab": {
          "base_uri": "https://localhost:8080/",
          "height": 279
        },
        "id": "tcqGeMSOoYeg",
        "outputId": "dca93f3e-9c82-4ad3-b2eb-6271b95eaf82"
      },
      "outputs": [
        {
          "output_type": "display_data",
          "data": {
            "text/plain": [
              "<Figure size 432x288 with 1 Axes>"
            ],
            "image/png": "[encoded data removed]"
          },
          "metadata": {
            "needs_background": "light"
          }
        }
      ],
      "source": [
        "var = pca.explained_variance_ratio_\n",
        "plt.plot(var)\n",
        "plt.xlabel('Principal component index')\n",
        "plt.ylabel('Explained variance ratio')\n",
        "plt.show()"
      ]
    },
    {
      "cell_type": "markdown",
      "metadata": {
        "papermill": {
          "duration": 0.052783,
          "end_time": "2022-06-23T07:34:06.037198",
          "exception": false,
          "start_time": "2022-06-23T07:34:05.984415",
          "status": "completed"
        },
        "tags": [],
        "id": "qzhpmw3IoYei"
      },
      "source": [
        "<b>our elbow is at an index vallue of four from our chart that is 3 components give more optimal contribution out of the 32 screened features .<b>\n",
        "<b> we will be keeping 3 features</b>"
      ]
    },
    {
      "cell_type": "code",
      "execution_count": 31,
      "metadata": {
        "execution": {
          "iopub.execute_input": "2022-06-23T07:34:06.145722Z",
          "iopub.status.busy": "2022-06-23T07:34:06.144662Z",
          "iopub.status.idle": "2022-06-23T07:34:06.151127Z",
          "shell.execute_reply": "2022-06-23T07:34:06.151633Z",
          "shell.execute_reply.started": "2022-06-23T07:04:30.836546Z"
        },
        "papermill": {
          "duration": 0.062424,
          "end_time": "2022-06-23T07:34:06.151793",
          "exception": false,
          "start_time": "2022-06-23T07:34:06.089369",
          "status": "completed"
        },
        "tags": [],
        "colab": {
          "base_uri": "https://localhost:8080/"
        },
        "id": "f7aGZd26oYej",
        "outputId": "96719ff9-670b-4bcc-df5b-6d9d06de8e2c"
      },
      "outputs": [
        {
          "output_type": "execute_result",
          "data": {
            "text/plain": [
              "0.9535056857795444"
            ]
          },
          "metadata": {},
          "execution_count": 31
        }
      ],
      "source": [
        "# print(len(pca.components_))\n",
        "pca.explained_variance_ratio_.sum()"
      ]
    },
    {
      "cell_type": "markdown",
      "metadata": {
        "papermill": {
          "duration": 0.05198,
          "end_time": "2022-06-23T07:34:06.256253",
          "exception": false,
          "start_time": "2022-06-23T07:34:06.204273",
          "status": "completed"
        },
        "tags": [],
        "id": "R78nut1zoYel"
      },
      "source": [
        "95% of variance is explained by 32 principal components. We can't plot something in 32 dimensions, so let's just see what the PCA looks like when we just pick the top three compoments."
      ]
    },
    {
      "cell_type": "code",
      "execution_count": 32,
      "metadata": {
        "execution": {
          "iopub.execute_input": "2022-06-23T07:34:06.371151Z",
          "iopub.status.busy": "2022-06-23T07:34:06.369875Z",
          "iopub.status.idle": "2022-06-23T07:34:06.624645Z",
          "shell.execute_reply": "2022-06-23T07:34:06.624042Z",
          "shell.execute_reply.started": "2022-06-23T07:05:40.978954Z"
        },
        "papermill": {
          "duration": 0.316542,
          "end_time": "2022-06-23T07:34:06.624790",
          "exception": false,
          "start_time": "2022-06-23T07:34:06.308248",
          "status": "completed"
        },
        "tags": [],
        "colab": {
          "base_uri": "https://localhost:8080/",
          "height": 322
        },
        "id": "dANq4-rEoYem",
        "outputId": "380bc287-e4da-4b79-dccf-0fe11ef2fedb"
      },
      "outputs": [
        {
          "output_type": "stream",
          "name": "stderr",
          "text": [
            "/usr/local/lib/python3.7/dist-packages/seaborn/_decorators.py:43: FutureWarning: Pass the following variables as keyword args: x, y, hue. From version 0.12, the only valid positional argument will be `data`, and passing other arguments without an explicit keyword will result in an error or misinterpretation.\n",
            "  FutureWarning\n"
          ]
        },
        {
          "output_type": "display_data",
          "data": {
            "text/plain": [
              "<Figure size 432x288 with 1 Axes>"
            ],
            "image/png": "[encoded data removed]"
          },
          "metadata": {
            "needs_background": "light"
          }
        }
      ],
      "source": [
        "#we are going to use only 3 of the features since they show significant contribution out the rest 30 features\n",
        "pca3 = PCA(n_components = 3).fit_transform(X_train_scaled)\n",
        "colors = np.where(y_train==0, 'red', 'blue')\n",
        "plt.clf()\n",
        "fig = plt.figure(1, figsize=(10,6 ))\n",
        "#ax = Axes3D(fig, elev=-150, azim=110,)\n",
        "sns.scatterplot(pca3[:, 0], pca3[:, 1], pca3[:, 2])\n",
        "plt.show()"
      ]
    },
    {
      "cell_type": "markdown",
      "metadata": {
        "papermill": {
          "duration": 0.053902,
          "end_time": "2022-06-23T07:34:06.731585",
          "exception": false,
          "start_time": "2022-06-23T07:34:06.677683",
          "status": "completed"
        },
        "tags": [],
        "id": "2-Lnj7YpoYeo"
      },
      "source": [
        "## Neural Network\n",
        "# using deep learning neural network to train the model "
      ]
    },
    {
      "cell_type": "code",
      "execution_count": 33,
      "metadata": {
        "execution": {
          "iopub.execute_input": "2022-06-23T07:34:06.847603Z",
          "iopub.status.busy": "2022-06-23T07:34:06.846899Z",
          "iopub.status.idle": "2022-06-23T07:34:06.964913Z",
          "shell.execute_reply": "2022-06-23T07:34:06.964291Z",
          "shell.execute_reply.started": "2022-06-23T07:11:03.918720Z"
        },
        "papermill": {
          "duration": 0.179212,
          "end_time": "2022-06-23T07:34:06.965041",
          "exception": false,
          "start_time": "2022-06-23T07:34:06.785829",
          "status": "completed"
        },
        "tags": [],
        "id": "DVoSWCN1oYep"
      },
      "outputs": [],
      "source": [
        "NN_model = keras.Sequential([\n",
        "    layers.Dense(32, activation='relu', input_shape=X_train_pca[1].shape),\n",
        "    layers.Dense(16, activation='relu'),\n",
        "    layers.Dense(1, activation='sigmoid')\n",
        "])\n",
        "\n",
        "#sincce it is a classification task as for the standard of deeplearning models the last layer should be a sigmoid activation function which output probability that is 0 & 1"
      ]
    },
    {
      "cell_type": "code",
      "execution_count": 34,
      "metadata": {
        "execution": {
          "iopub.execute_input": "2022-06-23T07:34:07.082105Z",
          "iopub.status.busy": "2022-06-23T07:34:07.081398Z",
          "iopub.status.idle": "2022-06-23T07:34:07.091674Z",
          "shell.execute_reply": "2022-06-23T07:34:07.092241Z",
          "shell.execute_reply.started": "2022-06-23T07:15:36.271627Z"
        },
        "papermill": {
          "duration": 0.074071,
          "end_time": "2022-06-23T07:34:07.092412",
          "exception": false,
          "start_time": "2022-06-23T07:34:07.018341",
          "status": "completed"
        },
        "tags": [],
        "id": "1FiJw7KJoYeq"
      },
      "outputs": [],
      "source": [
        "NN_model.compile(\n",
        "    #the cross-entropy loss is the metric to the model with its compile method\n",
        "    loss='binary_crossentropy',\n",
        "    optimizer='adam',\n",
        "    #the binary accuracy since we are dealing with two classification problem\n",
        "    metrics=['binary_accuracy']\n",
        ")"
      ]
    },
    {
      "cell_type": "code",
      "execution_count": 35,
      "metadata": {
        "execution": {
          "iopub.execute_input": "2022-06-23T07:34:07.201602Z",
          "iopub.status.busy": "2022-06-23T07:34:07.200857Z",
          "iopub.status.idle": "2022-06-23T07:34:07.205227Z",
          "shell.execute_reply": "2022-06-23T07:34:07.205744Z",
          "shell.execute_reply.started": "2022-06-23T07:17:12.390917Z"
        },
        "papermill": {
          "duration": 0.06073,
          "end_time": "2022-06-23T07:34:07.205920",
          "exception": false,
          "start_time": "2022-06-23T07:34:07.145190",
          "status": "completed"
        },
        "tags": [],
        "id": "XFkvPtMNoYer"
      },
      "outputs": [],
      "source": [
        "#the early stopping is handy for epochs that are likely to take time compiling\n",
        "early_stopping = keras.callbacks.EarlyStopping(\n",
        "    patience=5,\n",
        "    min_delta=0.005,\n",
        "    restore_best_weights=True,\n",
        ")"
      ]
    },
    {
      "cell_type": "markdown",
      "metadata": {
        "papermill": {
          "duration": 0.053341,
          "end_time": "2022-06-23T07:34:07.313581",
          "exception": false,
          "start_time": "2022-06-23T07:34:07.260240",
          "status": "completed"
        },
        "tags": [],
        "id": "LZUukLD4oYez"
      },
      "source": [
        "<b> fitting the model</b>"
      ]
    },
    {
      "cell_type": "code",
      "execution_count": 36,
      "metadata": {
        "execution": {
          "iopub.execute_input": "2022-06-23T07:34:07.424129Z",
          "iopub.status.busy": "2022-06-23T07:34:07.423029Z",
          "iopub.status.idle": "2022-06-23T07:34:08.939065Z",
          "shell.execute_reply": "2022-06-23T07:34:08.938283Z",
          "shell.execute_reply.started": "2022-06-23T07:17:19.316247Z"
        },
        "papermill": {
          "duration": 1.572635,
          "end_time": "2022-06-23T07:34:08.939190",
          "exception": false,
          "start_time": "2022-06-23T07:34:07.366555",
          "status": "completed"
        },
        "tags": [],
        "colab": {
          "base_uri": "https://localhost:8080/"
        },
        "id": "k5_NO1bKoYe0",
        "outputId": "707bf1f1-f6be-4855-d454-30a366b056dc"
      },
      "outputs": [
        {
          "output_type": "stream",
          "name": "stdout",
          "text": [
            "Epoch 1/200\n",
            "5/5 [==============================] - 2s 100ms/step - loss: 1.7310 - binary_accuracy: 0.7368 - val_loss: 1.1281 - val_binary_accuracy: 0.7059\n",
            "Epoch 2/200\n",
            "5/5 [==============================] - 0s 20ms/step - loss: 1.2294 - binary_accuracy: 0.7632 - val_loss: 0.9606 - val_binary_accuracy: 0.7353\n",
            "Epoch 3/200\n",
            "5/5 [==============================] - 0s 35ms/step - loss: 0.8397 - binary_accuracy: 0.8158 - val_loss: 0.8433 - val_binary_accuracy: 0.7353\n",
            "Epoch 4/200\n",
            "5/5 [==============================] - 0s 16ms/step - loss: 0.5935 - binary_accuracy: 0.8684 - val_loss: 0.7554 - val_binary_accuracy: 0.7647\n",
            "Epoch 5/200\n",
            "5/5 [==============================] - 0s 34ms/step - loss: 0.3975 - binary_accuracy: 0.8947 - val_loss: 0.6962 - val_binary_accuracy: 0.7941\n",
            "Epoch 6/200\n",
            "5/5 [==============================] - 0s 25ms/step - loss: 0.2753 - binary_accuracy: 0.9211 - val_loss: 0.6532 - val_binary_accuracy: 0.8235\n",
            "Epoch 7/200\n",
            "5/5 [==============================] - 0s 16ms/step - loss: 0.1603 - binary_accuracy: 0.9211 - val_loss: 0.6250 - val_binary_accuracy: 0.8235\n",
            "Epoch 8/200\n",
            "5/5 [==============================] - 0s 33ms/step - loss: 0.0948 - binary_accuracy: 0.9737 - val_loss: 0.6039 - val_binary_accuracy: 0.8235\n",
            "Epoch 9/200\n",
            "5/5 [==============================] - 0s 30ms/step - loss: 0.0734 - binary_accuracy: 0.9737 - val_loss: 0.5867 - val_binary_accuracy: 0.8235\n",
            "Epoch 10/200\n",
            "5/5 [==============================] - 0s 30ms/step - loss: 0.0359 - binary_accuracy: 0.9737 - val_loss: 0.5762 - val_binary_accuracy: 0.8529\n",
            "Epoch 11/200\n",
            "5/5 [==============================] - 0s 33ms/step - loss: 0.0226 - binary_accuracy: 1.0000 - val_loss: 0.5705 - val_binary_accuracy: 0.8529\n",
            "Epoch 12/200\n",
            "5/5 [==============================] - 0s 17ms/step - loss: 0.0143 - binary_accuracy: 1.0000 - val_loss: 0.5676 - val_binary_accuracy: 0.8529\n",
            "Epoch 13/200\n",
            "5/5 [==============================] - 0s 34ms/step - loss: 0.0100 - binary_accuracy: 1.0000 - val_loss: 0.5666 - val_binary_accuracy: 0.8529\n",
            "Epoch 14/200\n",
            "5/5 [==============================] - 0s 20ms/step - loss: 0.0090 - binary_accuracy: 1.0000 - val_loss: 0.5666 - val_binary_accuracy: 0.8529\n",
            "Epoch 15/200\n",
            "5/5 [==============================] - 0s 16ms/step - loss: 0.0069 - binary_accuracy: 1.0000 - val_loss: 0.5669 - val_binary_accuracy: 0.8529\n",
            "Epoch 16/200\n",
            "5/5 [==============================] - 0s 25ms/step - loss: 0.0056 - binary_accuracy: 1.0000 - val_loss: 0.5670 - val_binary_accuracy: 0.8529\n"
          ]
        }
      ],
      "source": [
        "train_history = NN_model.fit(\n",
        "    X_train_pca, y_train,\n",
        "    validation_data=(X_test_pca, y_test),\n",
        "    batch_size = 8,\n",
        "    epochs = 200,\n",
        "    callbacks=[early_stopping]\n",
        ")"
      ]
    },
    {
      "cell_type": "code",
      "execution_count": 40,
      "metadata": {
        "execution": {
          "iopub.execute_input": "2022-06-23T07:34:09.077120Z",
          "iopub.status.busy": "2022-06-23T07:34:09.076432Z",
          "iopub.status.idle": "2022-06-23T07:34:09.200737Z",
          "shell.execute_reply": "2022-06-23T07:34:09.201714Z",
          "shell.execute_reply.started": "2022-06-23T07:17:28.208744Z"
        },
        "papermill": {
          "duration": 0.197116,
          "end_time": "2022-06-23T07:34:09.201982",
          "exception": false,
          "start_time": "2022-06-23T07:34:09.004866",
          "status": "completed"
        },
        "tags": [],
        "colab": {
          "base_uri": "https://localhost:8080/"
        },
        "id": "zv0vRydioYe3",
        "outputId": "f48cc193-c2e5-4d56-8ff9-2befd4e221e5"
      },
      "outputs": [
        {
          "output_type": "stream",
          "name": "stdout",
          "text": [
            "Neural Network accuracy:  (0.8529411764705882, 3)\n"
          ]
        }
      ],
      "source": [
        "pred = NN_model.predict(X_test_pca)\n",
        "print('Neural Network accuracy: ', (accuracy_score(y_test, pred.round()), 3))"
      ]
    },
    {
      "cell_type": "markdown",
      "metadata": {
        "papermill": {
          "duration": 0.064834,
          "end_time": "2022-06-23T07:34:09.333064",
          "exception": false,
          "start_time": "2022-06-23T07:34:09.268230",
          "status": "completed"
        },
        "tags": [],
        "id": "y3ags4jwoYe6"
      },
      "source": [
        "<b>After the training we got a pretty good accuracy of 85% not bad</b> "
      ]
    },
    {
      "cell_type": "code",
      "execution_count": 42,
      "metadata": {
        "execution": {
          "iopub.execute_input": "2022-06-23T07:34:09.480452Z",
          "iopub.status.busy": "2022-06-23T07:34:09.477962Z",
          "iopub.status.idle": "2022-06-23T07:34:09.672247Z",
          "shell.execute_reply": "2022-06-23T07:34:09.671583Z",
          "shell.execute_reply.started": "2022-06-23T07:20:06.481998Z"
        },
        "papermill": {
          "duration": 0.274317,
          "end_time": "2022-06-23T07:34:09.672379",
          "exception": false,
          "start_time": "2022-06-23T07:34:09.398062",
          "status": "completed"
        },
        "tags": [],
        "colab": {
          "base_uri": "https://localhost:8080/",
          "height": 295
        },
        "id": "PaKDZIARoYe8",
        "outputId": "85e097fa-45e4-4a65-c6e0-2edf312c97f1"
      },
      "outputs": [
        {
          "output_type": "display_data",
          "data": {
            "text/plain": [
              "<Figure size 432x288 with 2 Axes>"
            ],
            "image/png": "[encoded data removed]"
          },
          "metadata": {
            "needs_background": "light"
          }
        }
      ],
      "source": [
        "#plotting a confusion matrix to see how good our predictions does on a the datasets\n",
        "cm_nn = confusion_matrix(y_test, pred.round())\n",
        "\n",
        "ax = plt.subplot()\n",
        "sns.heatmap(cm_nn, annot=True, ax = ax, fmt='g', cmap='Greens') \n",
        "\n",
        "# Labels, title and ticks\n",
        "ax.set_xlabel('Predicted labels')\n",
        "ax.set_ylabel('True labels') \n",
        "ax.set_title('Neural Network Confusion Matrix') \n",
        "ax.xaxis.set_ticklabels(labels) \n",
        "ax.yaxis.set_ticklabels(labels, rotation=360);"
      ]
    },
    {
      "cell_type": "markdown",
      "metadata": {
        "papermill": {
          "duration": 0.077051,
          "end_time": "2022-06-23T07:34:09.827859",
          "exception": false,
          "start_time": "2022-06-23T07:34:09.750808",
          "status": "completed"
        },
        "tags": [],
        "id": "7bPOMUxEoYe-"
      },
      "source": [
        "<b>comaring the prediction perforance of our predicted result</b>\n",
        "1. True Negatve = 18 : That the model predicted 18 instances that are 0 and truy are \n",
        "2. False positive = 2: that is our model predicted only 2 instance to be  1 which is not\n",
        "3. False negative = 3 : that is our model predcited only 3 instances to be 0 which is not \n",
        "4. True positive = 11 : that is the model prediceted 11 instances to be 1 and they are truly 1.\n",
        "\n",
        "considring the low values in the false positive and false negative it clearly indicates that our model will not uderfit to unknown datasets."
      ]
    },
    {
      "cell_type": "code",
      "execution_count": 43,
      "metadata": {
        "execution": {
          "iopub.execute_input": "2022-06-23T07:34:09.968268Z",
          "iopub.status.busy": "2022-06-23T07:34:09.967077Z",
          "iopub.status.idle": "2022-06-23T07:34:09.987402Z",
          "shell.execute_reply": "2022-06-23T07:34:09.986756Z",
          "shell.execute_reply.started": "2022-06-23T07:29:20.523297Z"
        },
        "papermill": {
          "duration": 0.092545,
          "end_time": "2022-06-23T07:34:09.987526",
          "exception": false,
          "start_time": "2022-06-23T07:34:09.894981",
          "status": "completed"
        },
        "tags": [],
        "id": "m21ySRpToYfA"
      },
      "outputs": [],
      "source": [
        "ant_train = train_df.copy() \n",
        "ant_test = train_df.copy()"
      ]
    },
    {
      "cell_type": "markdown",
      "metadata": {
        "papermill": {
          "duration": 0.065986,
          "end_time": "2022-06-23T07:34:10.120022",
          "exception": false,
          "start_time": "2022-06-23T07:34:10.054036",
          "status": "completed"
        },
        "tags": [],
        "id": "byshi-xLoYfB"
      },
      "source": [
        "tryin to optimize the dataset using antcolony optimaization"
      ]
    },
    {
      "cell_type": "markdown",
      "metadata": {
        "papermill": {
          "duration": 0.065196,
          "end_time": "2022-06-23T07:34:10.250729",
          "exception": false,
          "start_time": "2022-06-23T07:34:10.185533",
          "status": "completed"
        },
        "tags": [],
        "id": "DpCmz_-ioYfC"
      },
      "source": [
        "##trying out the ant colony optimaization the aim is to see how we can feed a column to it just like the pca does to give us optimal result as regard to the best route the ant pheromone will be more concentrated towrds to give the best optimal features .\n"
      ]
    },
    {
      "cell_type": "code",
      "execution_count": 46,
      "metadata": {
        "execution": {
          "iopub.execute_input": "2022-06-23T07:34:10.395239Z",
          "iopub.status.busy": "2022-06-23T07:34:10.394451Z",
          "iopub.status.idle": "2022-06-23T07:34:10.413340Z",
          "shell.execute_reply": "2022-06-23T07:34:10.414026Z",
          "shell.execute_reply.started": "2022-06-09T09:31:14.444251Z"
        },
        "papermill": {
          "duration": 0.097398,
          "end_time": "2022-06-23T07:34:10.414190",
          "exception": false,
          "start_time": "2022-06-23T07:34:10.316792",
          "status": "completed"
        },
        "tags": [],
        "id": "KQnvO5wRoYfD"
      },
      "outputs": [],
      "source": [
        "#using ACO\n",
        "class ant():\n",
        "    def __init__(self, G, start = 'S', end = 'T', alpha = 1, beta = 1):\n",
        "        self.G = G\n",
        "        self.current_city, self.target_city = start, end\n",
        "        self.alpha, self.beta = alpha, beta\n",
        "        self.route = {self.current_city : 0}\n",
        "        self.L = 0\n",
        "        \n",
        "        \n",
        "        def move(self):\n",
        "            if self.current_city == self.target_city: return\n",
        "            #Dont visit an already followed path\n",
        "            possible_edges = [e for e in G.edges([self.current_city]) if e[1] not in self.route]\n",
        "            possible_cities = [e[1] for e in possible_edges]\n",
        "            \n",
        "            distances = np.array([G.edges[e]['weight'] for e in possible_edges])\n",
        "            pheromons = np.array([G.edges[e]['pheromone'] for e in possible_edges])\n",
        "            \n",
        "            preferences = pheromons**self.alpha/distance**self.beta\n",
        "            probabilities = preferences/preferences.sum()\n",
        "            \n",
        "            new_city = np.random.choice(a = possible_cities, size=1,\n",
        "                                       p =probabilities)[0]\n",
        "            self.L += self.G.edges[(self.current_city, new_city)]['weight']\n",
        "            self.current_city = new_city\n",
        "            self.route[self.current_city] = len(self.route)\n",
        "            \n",
        "        def go():\n",
        "            for i in range(self.G.number_of_nodes()):\n",
        "                self.move()\n",
        "        def get_path(self):\n",
        "            inv_route = {v:k for k, v in self.route.items()}\n",
        "            return [inv_route[i] for i in range(len(inv_route))]\n",
        "class antcolony():\n",
        "    def __init__(self, G, start = 'S', end = 'T', alpha = 1, beta = 1):\n",
        "        self.G, eps = G, 0.0001\n",
        "        nx.set_edge_attributes(self.G, eps, 'pheromone')\n",
        "        self.start, self.end = start, end\n",
        "        self.alpha, self.beta = alpha, beta\n",
        "        \n",
        "    def evaporation(self, decay = 0.05):\n",
        "        #Evaporation of pheromon\n",
        "        phe = nx.get_edge_attributes(G, 'pheromone')\n",
        "        new_phe = {k:v * (1 - decay) for k,v in phe.items()}\n",
        "        nx.set_edge_attributes(self.G, new_phe, 'pheromone')\n",
        "         \n",
        "    def deposit(self, route, L, delta =1):\n",
        "        for i,j in zip(route[:-1], route[1:]):\n",
        "            self.G.edges[(i, j)]['pheromone'] += delta/L\n",
        "            \n",
        "    def run(self, number_of_ants =10, time=20):\n",
        "        #in each time step\n",
        "        for t in range(time):\n",
        "            #K ants exist in the colony\n",
        "            self.colony = [ant(self.G, self.start, self.end, self.alpha, self.beta)\n",
        "                          for k in range(number_of_ants)]\n",
        "            #for k in range(number_of_ants): self.colony[k].go()\n",
        "            #for k in range(number_of_ants):\n",
        "                #self.deposit(route=self.colony[k].get_path(),\n",
        "                            #L = self.colony[k].L)\n",
        "            self.evaporation()"
      ]
    },
    {
      "cell_type": "code",
      "execution_count": 47,
      "metadata": {
        "execution": {
          "iopub.execute_input": "2022-06-23T07:34:10.554706Z",
          "iopub.status.busy": "2022-06-23T07:34:10.549984Z",
          "iopub.status.idle": "2022-06-23T07:34:10.981180Z",
          "shell.execute_reply": "2022-06-23T07:34:10.980085Z",
          "shell.execute_reply.started": "2022-06-09T09:31:15.273098Z"
        },
        "papermill": {
          "duration": 0.50056,
          "end_time": "2022-06-23T07:34:10.981398",
          "exception": true,
          "start_time": "2022-06-23T07:34:10.480838",
          "status": "failed"
        },
        "tags": [],
        "id": "4KZOFEn0oYfI"
      },
      "outputs": [],
      "source": [
        "edge_list = [('S', 'A', 1), ('A', 'T', 1), ('S', 'B', 10), ('B', 'T', 10)]\n",
        "G = nx.Graph()\n",
        "G.add_weighted_edges_from(edge_list)\n",
        "\n",
        "swarm = antcolony(G, start='S', end='T', alpha=1, beta = 1)\n",
        "swarm.run(number_of_ants = 10, time = 2)"
      ]
    },
    {
      "cell_type": "code",
      "execution_count": null,
      "metadata": {
        "papermill": {
          "duration": null,
          "end_time": null,
          "exception": null,
          "start_time": null,
          "status": "pending"
        },
        "tags": [],
        "id": "ZDVXWPoNoYfM"
      },
      "outputs": [],
      "source": [
        ""
      ]
    }
  ],
  "metadata": {
    "kernelspec": {
      "display_name": "Python 3",
      "language": "python",
      "name": "python3"
    },
    "language_info": {
      "codemirror_mode": {
        "name": "ipython",
        "version": 3
      },
      "file_extension": ".py",
      "mimetype": "text/x-python",
      "name": "python",
      "nbconvert_exporter": "python",
      "pygments_lexer": "ipython3",
      "version": "3.7.6"
    },
    "papermill": {
      "duration": 39.483796,
      "end_time": "2022-06-23T07:34:11.188198",
      "environment_variables": {},
      "exception": true,
      "input_path": "__notebook__.ipynb",
      "output_path": "__notebook__.ipynb",
      "parameters": {},
      "start_time": "2022-06-23T07:33:31.704402",
      "version": "2.1.0"
    },
    "colab": {
      "name": "genome-classification-using-neural-networks2.ipynb",
      "provenance": [],
      "include_colab_link": true
    }
  },
  "nbformat": 4,
  "nbformat_minor": 0
}